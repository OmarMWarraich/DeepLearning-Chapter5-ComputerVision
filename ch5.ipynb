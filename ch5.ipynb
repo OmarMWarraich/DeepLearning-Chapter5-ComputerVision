{
 "cells": [
  {
   "cell_type": "markdown",
   "metadata": {},
   "source": [
    "# Deep Learning for Computer Vision"
   ]
  },
  {
   "cell_type": "markdown",
   "metadata": {},
   "source": [
    "# Covers the following:-\n",
    "#Understanding Convulational neural networks.\n",
    "#Using data augmentation to mitigate overfitting\n",
    "#Using a pretrained convnet to do feature extraction\n",
    "#Fine-tuning a pretrained convnet\n",
    "#Visualizng what convnets learn and how they make classification decisionsm"
   ]
  },
  {
   "cell_type": "markdown",
   "metadata": {},
   "source": [
    "### we r abt to dive into the theory of what convnets are and why they have been so successful at computer vision tasks.\n",
    "# first a practical example. It uses a convnet to classify MNIST digits, a task we performed in chapter 2 using a densely\n",
    "# connected network (our test accuracy then was 97.8%). Even though the convnet will be basic, it's accuracy will\n",
    "# blow out of the water that of the densely connected model from ch. 2. \n",
    "# The following lines of code show what a basic convnet looks like. It's a stack of Conv2D and MaxPooling 2D layers. "
   ]
  },
  {
   "cell_type": "markdown",
   "metadata": {},
   "source": [
    "# 5.1. Instantiating a small convnet"
   ]
  },
  {
   "cell_type": "code",
   "execution_count": null,
   "metadata": {},
   "outputs": [],
   "source": [
    "from keras import layers\n",
    "from keras import models\n",
    "\n",
    "model = models.Sequential()\n",
    "model.add(layers.Conv2D(32, (3,3), activation='relu', input_shape=(28,28,1)))\n",
    "model.add(layers.MaxPooling2D((2, 2)))\n",
    "model.add(layers.Conv2D(64, (3, 3), activation='relu'))\n",
    "model.add(layers.MaxPooling2D((2, 2)))\n",
    "model.add(layers.Conv2D(64, (3,3), activation='relu'))"
   ]
  },
  {
   "cell_type": "code",
   "execution_count": null,
   "metadata": {},
   "outputs": [],
   "source": [
    "# importantly, a convnet takes as input tensors of shape (image_height, image_width, image_channels)(not including\n",
    "# the batch dimension). In this case, we'll configure the convnet to process inputs of size (28, 28, 1), which is \n",
    "# the format of MNIST images. We'll do this by passing the argument input_shape=(28, 28, 1) to the first layer.\n",
    "# Let's display the architecture of the convnet so far:\n",
    "model.summary()"
   ]
  },
  {
   "cell_type": "raw",
   "metadata": {},
   "source": [
    "# The output of every conv 2D and MaxPooling 2D is a 3D tensor of shape (height, width, channels). The width and\n",
    "# dimensions tend to shrink as you go deeper in the network. The no. of layers is controlled by the first argument\n",
    "# passed to the Conv2D layers (32 or 64).  The next step is to feed the last output tensor (ofshape (3 ,3, 64))\n",
    "# into a densely classified network like those you're already family with: a stack of dense layers.\n",
    "# These classsifiers process vectors, which are 1D, whereas the current output is a 3D tensor. \n",
    "# First we have to flatten the 3D outputs to 1D, and then add a few Dense layers on top."
   ]
  },
  {
   "cell_type": "markdown",
   "metadata": {},
   "source": [
    "## Adding classifier on top of the convnet"
   ]
  },
  {
   "cell_type": "code",
   "execution_count": null,
   "metadata": {},
   "outputs": [],
   "source": [
    "model.add(layers.Flatten())\n",
    "model.add(layers.Dense(64, activation='relu'))\n",
    "model.add(layers.Dense(10, activation='softmax'))"
   ]
  },
  {
   "cell_type": "code",
   "execution_count": null,
   "metadata": {},
   "outputs": [],
   "source": [
    "# we'll do a 10-way classification, using a final layer with 10 outputs and a softmax activation. Here's what the\n",
    "# network looks like now:\n",
    "model.summary()"
   ]
  },
  {
   "cell_type": "markdown",
   "metadata": {},
   "source": [
    "## the (3, 3, 64) ouputs are flattened into vectors of shape (576,) before going through two Dense layers.\n",
    "# Now, let's train the convnet on the MNIST digits. We'll reuse a lot of the code the MNIST example in chapter 2."
   ]
  },
  {
   "cell_type": "markdown",
   "metadata": {},
   "source": [
    "# Training the convnet on MNIST images"
   ]
  },
  {
   "cell_type": "code",
   "execution_count": null,
   "metadata": {},
   "outputs": [],
   "source": [
    "from keras.datasets import mnist\n",
    "from keras.utils import to_categorical\n",
    "\n",
    "(train_images, train_labels), (test_images, test_labels) = mnist.load_data()\n",
    "train_images = train_images.reshape((60000, 28, 28, 1))\n",
    "train_images = train_images.astype('float32') / 255\n",
    "\n",
    "test_images = test_images.reshape((10000, 28, 28, 1))\n",
    "test_images = test_images.astype('float32') / 255\n",
    "\n",
    "train_labels = to_categorical(train_labels)\n",
    "test_labels = to_categorical(test_labels)\n",
    "\n",
    "model.compile(optimizer='rmsprop',\n",
    "              loss='categorical_crossentropy',\n",
    "              metrics=['accuracy'])\n",
    "model.fit(train_images, train_labels, epochs=5, batch_size=64)"
   ]
  },
  {
   "cell_type": "code",
   "execution_count": null,
   "metadata": {},
   "outputs": [],
   "source": [
    "# Let evaluate the model on the test_data:"
   ]
  },
  {
   "cell_type": "code",
   "execution_count": null,
   "metadata": {},
   "outputs": [],
   "source": [
    "test_loss, test_acc = model.evaluate(test_images, test_labels)\n",
    "test_acc"
   ]
  },
  {
   "cell_type": "code",
   "execution_count": null,
   "metadata": {},
   "outputs": [],
   "source": [
    "# Whereas the densely connected network from chapter 2 had a test accuracy of 97.8%, the basic convnet has a \n",
    "# test accuracy of 98.91, decreased the error rate by 1lmost 50%. Not bad!.\n",
    "# But why does this simple convnet work so well, compared to a densely connected model? To answer this, let's dive \n",
    "# into what the Conv2D and MaxPooling2D layers do."
   ]
  },
  {
   "cell_type": "markdown",
   "metadata": {},
   "source": [
    "# 5.1.1. The convulution operation."
   ]
  },
  {
   "cell_type": "code",
   "execution_count": null,
   "metadata": {},
   "outputs": [],
   "source": [
    "# The fundamental difference between a densely connected layer and a convolution layer is this: Dense layers learn\n",
    "# global patterns in their input feature space (e.g., for a MNIST digit, patterns involving all pixels),\n",
    "# whereas convolution layers learn local patterns: in the case of images, patterns found in small 2D windows of the inputs.\n",
    "# In the previous example, these windows were all 3 x3. Images can be broken into local patterns such as edges, textures\n",
    "# and so on."
   ]
  },
  {
   "cell_type": "code",
   "execution_count": null,
   "metadata": {},
   "outputs": [],
   "source": [
    "# The key characterstic gives convnets two interesting properties:"
   ]
  },
  {
   "cell_type": "code",
   "execution_count": null,
   "metadata": {},
   "outputs": [],
   "source": [
    "# The patterns they learn are translation invariant: After learning a certain pattern in the lower-right corner\n",
    "# of a picture, a convnet can recognize it anywhere; e.g., in the upper-left corner. A densely connected network \n",
    "# would have to learn the pattern anew if it appeared at a new location. This makes convnets data efficient when\n",
    "# processing images(because the visual world is fundamentally translation invariant): they need fewer samples to learn\n",
    "# representations that have generalization power."
   ]
  },
  {
   "cell_type": "code",
   "execution_count": null,
   "metadata": {},
   "outputs": [],
   "source": [
    "# They can learn spatial hierarchies of patterns. A first convolution layer will learn small local patterns such as \n",
    "# edges, a second convolution layer will learn larger patterns made of the features of the first layers and so on.\n",
    "# This allows convnets to efficiently learn increasingly complex and abstract visual concepts(because the visual\n",
    "# world is fundamentally spatially hieraarchical).\n",
    "# e.g., the visual world forms a spatial hierarchy of visual modules: hyperlocal edges combine into local objects such \n",
    "# as eyes or ears, which combine into high-level concepts such as \"cat\"."
   ]
  },
  {
   "cell_type": "code",
   "execution_count": null,
   "metadata": {},
   "outputs": [],
   "source": [
    "#Convolutions operate over 3D tensors, called feature maps, with two spatial axes(height and width) as well as a \n",
    "# depth axis(also called the channel axis). For an RGB image, the dimension of the depth axis is 3, coz the image \n",
    "# has three color channels, rgb. For bnw pic, like the MNIST digits, the depth is 1 (levels of gray). The convolution\n",
    "# op extracts patches from its input feature map and applies the same transformation to all of these patches,\n",
    "# producing an output feature map. This output feature map is still a 3D tensor: it has a width and a height. Its\n",
    "# depth can be arbitray, coz the output depth is a parameter of the layer, and the different channels in that\n",
    "# depth axis no longer stand for specific colors as in RGB input; rather they stand for filters. Filters encode \n",
    "# specific aspects of the input data: at a high level, a single filter could encode the concept \"presences of a face in \n",
    "# the input\" for instance,\n",
    "# In the MNIST example, the first convolution layer takes a feature map of size (28, 28, 1) and outputs a feature map \n",
    "# of size (26, 26, 32): it computes 32 filters over its inputs. Each of these 32 output channels contains a 26 x 26 \n",
    "# grid of values, which is a response map of the filter over the input. That is what the term feature map means:\n",
    "# every dimension in the depth axis is a feature (or filter), and the 2D tensor output[:, :, n] is the 2D spatial\n",
    "# map of the response of this filter over the input."
   ]
  },
  {
   "cell_type": "markdown",
   "metadata": {},
   "source": [
    "### Convolutions are defined by two key parameters:"
   ]
  },
  {
   "cell_type": "code",
   "execution_count": null,
   "metadata": {},
   "outputs": [],
   "source": [
    "# Size of the patches extracted from the inputs- These are typically 3 x 3 and 5 x 5. In the example, they were\n",
    "# 3 x 3, which is a common choice.\n",
    "# Depth of the output feature map-The bumber of filters computed by the convolution. The example started with a \n",
    "# depth of 32 and ended with a depth of 64."
   ]
  },
  {
   "cell_type": "code",
   "execution_count": null,
   "metadata": {},
   "outputs": [],
   "source": [
    "# Depth of the output feature map-The number of filters computed by the convolution. THe example started with a depth\n",
    "# of 32 and ended with a depth of 64."
   ]
  },
  {
   "cell_type": "code",
   "execution_count": null,
   "metadata": {},
   "outputs": [],
   "source": [
    "# In keras 2D layers, these params are first args passed to the layer:: Conv2D(output_depth (window_height, window_width))."
   ]
  },
  {
   "cell_type": "code",
   "execution_count": null,
   "metadata": {},
   "outputs": [],
   "source": [
    "# A convolution works by sliding these windows of size 3 x 3 or 5 x 5 voer the 3D input feature map, stopping\n",
    "# at every possible location, and extracting the 3D patch of surrounding features( shape (window_height, \n",
    "# window_width, input_depth)). Each such 3D path is then transformed( via a tensor product with the same learned \n",
    "# weight called matrix, called the convolution kernel) into a ID vector of shape(output_depth,). All of these vectors \n",
    "# are then spatially reassembled into a 3D output map of shape (height, width, output_depth). Every spatial location in \n",
    "# the output feature map (e.g., the lower-right corner of the output contains information about the lower-right\n",
    "# corner of the input). For instance, with 3 x 3 windows, the vector output [i, j, :] comes from the 3D parch\n",
    "# input[i-1: i+1, j-1:j+1, :]. \n",
    "# The output width and height may differ from the input width and height. They may differ for two reasons:\n",
    "# Border effects, which can be countered by padding the input feature map.\n",
    "# The use of strides. coming soon."
   ]
  },
  {
   "cell_type": "markdown",
   "metadata": {},
   "source": [
    "#### Understanding Border effects and padding"
   ]
  },
  {
   "cell_type": "code",
   "execution_count": null,
   "metadata": {},
   "outputs": [],
   "source": [
    "# Consider a 5 x 5 feature map(25 files total). There are only 9 ties around which you can center a 3 x 3 window, \n",
    "# forming a 3 x 3 grid. Hence the output feature map will be 3 x 3. It shrinks a little: by exactly two tiles \n",
    "# alongside each dimension in this case. You can see this border effect in action in the earlier e.g.. u start with\n",
    "# 28 x 28 input which become 26 x 26 after the first convolution layer.\n",
    "\n",
    "# If u want to get an output feature map with the same spatial dimensions as the input, u can use padding.\n",
    "# Padding consists of adding an appropriate no. of rows and columns on each side of the input feature map \n",
    "# so as to make it possible to fit center convolution windows around every input tile. For a 3 x 3 window, you add\n",
    "# one column on the right, one column on the left, one row at the top and one row at the bottom. For a 5 x 5window,\n",
    "# you add two rows. \n",
    "\n",
    "# In Conv2D layers, padding is configurable via the padding argument, which takes two values: \"valid\", which means \n",
    "# no padding (only valid window locations will be used); and \"same\", which means \"pad in such a way as to have an \n",
    "# output with the same width and height as the input.\". The padding argument defaults to \"valid.\""
   ]
  },
  {
   "cell_type": "markdown",
   "metadata": {},
   "source": [
    "#### Understanding Convolution Strides"
   ]
  },
  {
   "cell_type": "code",
   "execution_count": null,
   "metadata": {},
   "outputs": [],
   "source": [
    "#The other factor that can influence output size is the notion of strides. The description of convolution so far has \n",
    "# assumed that the center tiles of the convolution windows are all contiguous. But the distance bwtween two \n",
    "# successive windows is a parameter of the convolution, called its stride, which defaults to 1. It's possible\n",
    "# to have strided convolutions: convolutions with a stride hifher than 1. \n",
    "\n",
    "# Using stride 2 means the width and height of the feature map are downsampled by a factor of 2 (in addition to \n",
    "# any changes intoriduced by border effects). Strided convolutions are rarely used in practice, although they\n",
    "# come in handy for some types of models; it's good to be familiar with the concept.\n",
    "\n",
    "#To downsample feature maps, instead of strides, we tend to use the max-pooling operation, which you saw in action in\n",
    "# the first convnet example. Let's look at it in more depth."
   ]
  },
  {
   "cell_type": "markdown",
   "metadata": {},
   "source": [
    "### 5.1.2. The max-pooling operation"
   ]
  },
  {
   "cell_type": "code",
   "execution_count": null,
   "metadata": {},
   "outputs": [],
   "source": [
    "#In the convnet example, the size of the feature maps is halved after every MaxPooling2D layer. For instance, b4 \n",
    "# the first MaxPooling2D layers, the feature map is 26 x 26, but the max-pooling operation halves it to 13 x 13.\n",
    "# That's the role of max pooling: to aggressively downsample feature maps, much like strided convolutions.\n",
    "# Max pooling consists of extracting windows from the input feature maps and outputting the max value of each \n",
    "# channel. It's conceptually similar to convolution, except that instead of transforming local patches via a learned\n",
    "# linear transformation (the convolution kernel), they 're transformed via a hardcored max tenor operation. A big\n",
    "# difference from convolution is that max pooling is usually done with 2 x 2 windows and stride 2, in order to\n",
    "# downsample the feature maps by a factor of 2. On the other hand, convolution is typically done with 3 x 3 windows\n",
    "# and no stride (stride 1).\n",
    "# Why downsample feature maps this way? Why not remove the max-pooling layers and keep fairly large feature maps\n",
    "# all the way up? Let's look at this option. The convolutional base of the model would look then like this:"
   ]
  },
  {
   "cell_type": "code",
   "execution_count": null,
   "metadata": {},
   "outputs": [],
   "source": [
    "model_no_max_pool = models.Sequential()\n",
    "model_no_max_pool.add(layers.Conv2D(32, (3, 3), activation = 'relu',\n",
    "                                   input_shape=(28, 28, 1)))\n",
    "model_no_max_pool.add(layers.Conv2D(64, (3, 3), activation='relu'))\n",
    "model_no_max_pool.add(layers.Conv2D(64, (3, 3), activation='relu'))"
   ]
  },
  {
   "cell_type": "code",
   "execution_count": null,
   "metadata": {},
   "outputs": [],
   "source": [
    "model_no_max_pool.summary()"
   ]
  },
  {
   "cell_type": "code",
   "execution_count": null,
   "metadata": {},
   "outputs": [],
   "source": [
    "# What's wrong with this setup? Two things;-\n",
    "\n",
    "# It isnt conducive to learning a spatial hierarchy of features. The 3 x 3 windows in the third layer will only \n",
    "# contain information coming from 7 x 7 windows in the initial input. The highlevel patterns learned by the convnet\n",
    "# will still be very small w.r.t the initial input, which may not be enuf 2 learn to classify digits (try recognizing a \n",
    "# digit by only looking at it through windows that are 7 x 7 pixels!). We need the features from the last convolution\n",
    "# layer to contain info abt the totality of the input.\n",
    "\n",
    "# The final feature map has 22 x 22 x 64 = 30,976 total coefficients per sample. This is huge. If you were to flatten\n",
    "# it to stick a Dense layer of size 512 on top, that layer would have 15.8 million parameters. This is far 2 large \n",
    "# for such a small model and would result in intense overfitting.\n",
    "\n",
    "# In short, the reason to use downsampling is to reduce the number of feature-map coefficients to process, as well\n",
    "# as to induce spatial-filter hierarchies by making successive convolution layers look at increasingly large\n",
    "# windows ( in terms of the fraction of the original input they cover).\n",
    "\n",
    "#  Note that max pooling isn't the only way you can achieve such downsampling. As you already know, you can also use\n",
    "# strides in the prior convolution layer. And you can use average pooling instead of max pooling, where each local \n",
    "# input patch is transformed by taking the average value of each channel over the patch, rather than the max. But\n",
    "# max pooling tends to work better than these alternative solutions. In a nutshell, the reason is that features tend \n",
    "# to encode the spatial presence of some pattern or concept over the different tiles of the feature map (hence, the \n",
    "# term feature map), and it's more informative to look at the maximal presence of different features than at their \n",
    "# average presence. So the most reasonable subsampling strategy is to produce dense maps of features (via unstrided \n",
    "# convolutions) or averaging input patches, which could cause you to miss or dilute feature-presence information.\n",
    "# At this point, u shud understand the basics of covnets-feature maps, convolution and max-pooling- and you know how \n",
    "# to build a small convnet to solve a toy problem such as MNIST digits classification. Now let's move on to more \n",
    "#  useful, practical applications.\n"
   ]
  },
  {
   "cell_type": "markdown",
   "metadata": {},
   "source": [
    "# 5.2. Training a convnet from scratch on small dataset"
   ]
  },
  {
   "cell_type": "code",
   "execution_count": null,
   "metadata": {},
   "outputs": [],
   "source": [
    "# Common situation = train an image classification model using very little data- anywhere btw a few hunred 2 a \n",
    "# few thousands of images. Cat and dogs. set(4000images). training(2000). validation(1000). testing(1000).\n",
    "#Basic strategy-train new model 4rm scratch using little data. start by naively training a small convnet on the \n",
    "# 2000 training samples without any regularization, to set a baseline 4 wat can b achieved. classification accuracy\n",
    "# = 71%. overfitting main issue. then use data augmentation for mitigation overfitting in computer vision.\n",
    "# improves network accuracy = 82%. \n",
    "# next we'll review 2 more essential techniques 4 applying deep learning to small datasets: feature extraction with \n",
    "# a pretrained network( which will get you to an accuracy of 90% to 96%) and fine-tuning a pretrained network(this\n",
    "# will get you to a final accuracy of 97%.). Together, these strategies- training a small model from scratch, doing \n",
    "# feature extraction using a pretrained model, and fine-tuning a pretrained model-will constitute your future toolbox for \n",
    "# tackling the problem of performing image classification with small datasets."
   ]
  },
  {
   "cell_type": "markdown",
   "metadata": {},
   "source": [
    "#### 5.2.1. The relevance of deep learning for small-data problems"
   ]
  },
  {
   "cell_type": "code",
   "execution_count": null,
   "metadata": {},
   "outputs": [],
   "source": [
    "# Training a convnet from scratch on a very small image dataset will still yield reasonable results despite \n",
    "# a relative lack of data, without the need for any custom feature engineering.\n",
    "# What's more, deep-learning models are by nature highly purposable: you can take, say, an image-classification \n",
    "# or speech-to-text model trained on a large-scale dataset and reuse it on a significantly different problem with \n",
    "# only minor changes. "
   ]
  },
  {
   "cell_type": "markdown",
   "metadata": {},
   "source": [
    "#### 5.2.2. Downloading the data. "
   ]
  },
  {
   "cell_type": "code",
   "execution_count": 19,
   "metadata": {},
   "outputs": [],
   "source": [
    "import os, shutil\n",
    "original_dataset_dir = '/home/remo/Documents/training_set/training_set/cats_dogs/' # Path to the dir where original dataset extracted\n",
    "base_dir = '/home/remo/Documents/training_set/training_set/cats_and_dogs_small' # Dir where smallest dataset 2b stored\n",
    "#os.mkdir(base_dir)\n",
    "\n",
    "train_dir = os.path.join(base_dir, 'train')\n",
    "#os.mkdir(train_dir)    # training data dir\n",
    "\n",
    "validation_dir = os.path.join(base_dir, 'validation')\n",
    "#os.mkdir(validation_dir) # validation data dir\n",
    "\n",
    "test_dir = os.path.join(base_dir, 'test')\n",
    "#os.mkdir(test_dir)     # test split dir\n",
    "\n",
    "train_cats_dir = os.path.join(train_dir, 'cats')\n",
    "#os.mkdir(train_cats_dir)   # dir with training cat pix\n",
    "\n",
    "train_dogs_dir = os.path.join(train_dir, 'dogs')\n",
    "#os.mkdir(train_dogs_dir)   # dir with training dogs pix\n",
    "\n",
    "validation_cats_dir = os.path.join(validation_dir, 'cats')\n",
    "#os.mkdir(validation_cats_dir)   # dir with validation cat pix\n",
    "\n",
    "validation_dogs_dir = os.path.join(validation_dir, 'dogs')\n",
    "#os.mkdir(validation_dogs_dir)   # dir with validation dogs pix\n",
    "\n",
    "test_cats_dir = os.path.join(test_dir, 'cats')\n",
    "#os.mkdir(test_cats_dir)         # dir with test cat pix\n",
    "\n",
    "test_dogs_dir = os.path.join(test_dir, 'dogs')\n",
    "#os.mkdir(test_dogs_dir)   # dir with test dog pix\n",
    "\n",
    "fnames = ['cat.{}.jpg'.format(i+1) for i in range (1000)]\n",
    "for fname in fnames:\n",
    "    src = os.path.join(original_dataset_dir, fname)\n",
    "    dst = os.path.join(train_cats_dir, fname)\n",
    "    shutil.copyfile(src, dst)       # copies the first 1000 cat images to train_cats_dir\n",
    "\n",
    "fnames = ['cat.{}.jpg'.format(i) for i in range (1000, 1500)]\n",
    "for fname in fnames:\n",
    "    src = os.path.join(original_dataset_dir, fname)\n",
    "    dst = os.path.join(validation_cats_dir, fname)\n",
    "    shutil.copyfile(src, dst)       # copies the next 500 cat images to validation_cats_dir\n",
    "\n",
    "fnames = ['cat.{}.jpg'.format(i) for i in range (1500, 2000)]\n",
    "for fname in fnames:\n",
    "    src = os.path.join(original_dataset_dir, fname)\n",
    "    dst = os.path.join(test_cats_dir, fname)\n",
    "    shutil.copyfile(src, dst)       # copies the next 500 cat images to test_cats_dir\n",
    "\n",
    "fnames = ['dog.{}.jpg'.format(i+1) for i in range (1000)]\n",
    "for fname in fnames:\n",
    "    src = os.path.join(original_dataset_dir, fname)\n",
    "    dst = os.path.join(train_dogs_dir, fname)\n",
    "    shutil.copyfile(src, dst)       # copies the first 1000 dog images to train_dogs_dir\n",
    "\n",
    "fnames = ['dog.{}.jpg'.format(i) for i in range (1000, 1500)]\n",
    "for fname in fnames:\n",
    "    src = os.path.join(original_dataset_dir, fname)\n",
    "    dst = os.path.join(validation_dogs_dir, fname)\n",
    "    shutil.copyfile(src, dst)       # copies the next 500 dog images to train_dogs_dir\n",
    "\n",
    "fnames = ['dog.{}.jpg'.format(i) for i in range (1500, 2000)]\n",
    "for fname in fnames:\n",
    "    src = os.path.join(original_dataset_dir, fname)\n",
    "    dst = os.path.join(test_dogs_dir, fname)\n",
    "    shutil.copyfile(src, dst)       # copies the next 500 dog images to train_dogs_dir"
   ]
  },
  {
   "cell_type": "code",
   "execution_count": 27,
   "metadata": {},
   "outputs": [
    {
     "name": "stdout",
     "output_type": "stream",
     "text": [
      "total training cat images: 1000\n"
     ]
    }
   ],
   "source": [
    "print('total training cat images:', len(os.listdir(train_cats_dir)))"
   ]
  },
  {
   "cell_type": "code",
   "execution_count": 28,
   "metadata": {},
   "outputs": [
    {
     "name": "stdout",
     "output_type": "stream",
     "text": [
      "total training dog images: 1000\n"
     ]
    }
   ],
   "source": [
    "print('total training dog images:', len(os.listdir(train_dogs_dir)))"
   ]
  },
  {
   "cell_type": "code",
   "execution_count": 29,
   "metadata": {},
   "outputs": [
    {
     "name": "stdout",
     "output_type": "stream",
     "text": [
      "total validation cat images: 500\n"
     ]
    }
   ],
   "source": [
    "print('total validation cat images:', len(os.listdir(validation_cats_dir)))"
   ]
  },
  {
   "cell_type": "code",
   "execution_count": 30,
   "metadata": {},
   "outputs": [
    {
     "name": "stdout",
     "output_type": "stream",
     "text": [
      "total validation dog images: 500\n"
     ]
    }
   ],
   "source": [
    "print('total validation dog images:', len(os.listdir(validation_dogs_dir)))"
   ]
  },
  {
   "cell_type": "code",
   "execution_count": 31,
   "metadata": {},
   "outputs": [
    {
     "name": "stdout",
     "output_type": "stream",
     "text": [
      "total test cat images: 500\n"
     ]
    }
   ],
   "source": [
    "print('total test cat images:', len(os.listdir(test_cats_dir)))"
   ]
  },
  {
   "cell_type": "code",
   "execution_count": 32,
   "metadata": {},
   "outputs": [
    {
     "name": "stdout",
     "output_type": "stream",
     "text": [
      "total test dog images: 500\n"
     ]
    }
   ],
   "source": [
    "print('total test dog images:', len(os.listdir(test_dogs_dir)))"
   ]
  },
  {
   "cell_type": "code",
   "execution_count": 33,
   "metadata": {},
   "outputs": [],
   "source": [
    "# 2000 training images, 1000 validation images, and 1000 test images. Each split contains the same no. of samples \n",
    "# from each calss: this is a balanced binary-classification problem, which means classification accuracy will be\n",
    "# an appropriate measure of success"
   ]
  },
  {
   "cell_type": "markdown",
   "metadata": {},
   "source": [
    "## Building your network"
   ]
  },
  {
   "cell_type": "markdown",
   "metadata": {},
   "source": [
    "#### Covnet 2b a stack of alternated Conv2D(with relu activation) aand MaxPooling 2D layers. since bigger images and more  \n",
    "#### complex prob, therefore, one more Conv2D & MaxPooling 2D stage from Mnist grayscale example above. this further \n",
    "#### augments the capacity of the network and further reduces the size of eature maps so they arent overly large when u reach \n",
    "#### the Flatten layer. Here, coz u start 4rm inputs of size 150 x 150(arbitrarily), end up with feature maps of size 7 x 7 just b4 the\n",
    "#### Flatten layer.\n",
    "#### The depth of the feature maps progressively increases in the network from (32 to 128), whereas the size of the feature maps \n",
    "#### decreases (from 148 x 148 to 7 X 7) .\n",
    "#### since a binary classification problem, end the network with a single unit(Dense layer size 1) activation='sigmoid'. 1 or other"
   ]
  },
  {
   "cell_type": "code",
   "execution_count": 34,
   "metadata": {},
   "outputs": [],
   "source": [
    "from keras import layers\n",
    "from keras import models\n",
    "\n",
    "model = models.Sequential()\n",
    "model.add(layers.Conv2D(32, (3, 3), activation='relu',\n",
    "                         input_shape=(150, 150, 3)))\n",
    "model.add(layers.MaxPooling2D((2, 2)))\n",
    "model.add(layers.Conv2D(64, (3,3), activation='relu'))\n",
    "model.add(layers.MaxPooling2D((2, 2)))\n",
    "model.add(layers.Conv2D(128, (3,3), activation='relu'))\n",
    "model.add(layers.MaxPooling2D((2, 2)))\n",
    "model.add(layers.Conv2D(128, (3,3), activation='relu'))\n",
    "model.add(layers.MaxPooling2D((2, 2)))\n",
    "model.add(layers.Flatten())\n",
    "model.add(layers.Dense(512, activation='relu'))\n",
    "model.add(layers.Dense(1, activation='sigmoid'))"
   ]
  },
  {
   "cell_type": "code",
   "execution_count": 35,
   "metadata": {},
   "outputs": [
    {
     "name": "stdout",
     "output_type": "stream",
     "text": [
      "Model: \"sequential\"\n",
      "_________________________________________________________________\n",
      "Layer (type)                 Output Shape              Param #   \n",
      "=================================================================\n",
      "conv2d (Conv2D)              (None, 148, 148, 32)      896       \n",
      "_________________________________________________________________\n",
      "max_pooling2d (MaxPooling2D) (None, 74, 74, 32)        0         \n",
      "_________________________________________________________________\n",
      "conv2d_1 (Conv2D)            (None, 72, 72, 64)        18496     \n",
      "_________________________________________________________________\n",
      "max_pooling2d_1 (MaxPooling2 (None, 36, 36, 64)        0         \n",
      "_________________________________________________________________\n",
      "conv2d_2 (Conv2D)            (None, 34, 34, 128)       73856     \n",
      "_________________________________________________________________\n",
      "max_pooling2d_2 (MaxPooling2 (None, 17, 17, 128)       0         \n",
      "_________________________________________________________________\n",
      "conv2d_3 (Conv2D)            (None, 15, 15, 128)       147584    \n",
      "_________________________________________________________________\n",
      "max_pooling2d_3 (MaxPooling2 (None, 7, 7, 128)         0         \n",
      "_________________________________________________________________\n",
      "flatten (Flatten)            (None, 6272)              0         \n",
      "_________________________________________________________________\n",
      "dense (Dense)                (None, 512)               3211776   \n",
      "_________________________________________________________________\n",
      "dense_1 (Dense)              (None, 1)                 513       \n",
      "=================================================================\n",
      "Total params: 3,453,121\n",
      "Trainable params: 3,453,121\n",
      "Non-trainable params: 0\n",
      "_________________________________________________________________\n"
     ]
    }
   ],
   "source": [
    "model.summary()"
   ]
  },
  {
   "cell_type": "code",
   "execution_count": 36,
   "metadata": {},
   "outputs": [],
   "source": [
    "# for the compilation step, you 'll go with the RMSprop optimizer, as usual. Coz u ended the network with a single\n",
    "# sigmoid unit, you 'll use binary crossentropy as the loss."
   ]
  },
  {
   "cell_type": "code",
   "execution_count": 37,
   "metadata": {},
   "outputs": [],
   "source": [
    "from keras import optimizers"
   ]
  },
  {
   "cell_type": "code",
   "execution_count": 39,
   "metadata": {},
   "outputs": [],
   "source": [
    "model.compile(loss='binary_crossentropy',\n",
    "              optimizer=optimizers.RMSprop(lr=1e-4),\n",
    "              metrics=['acc'])"
   ]
  },
  {
   "cell_type": "markdown",
   "metadata": {},
   "source": [
    "### Data preprocessing"
   ]
  },
  {
   "cell_type": "code",
   "execution_count": 40,
   "metadata": {},
   "outputs": [],
   "source": [
    "# data should be formatted into appropriately preprocessed floating-point tensors b4 being fed into the network.\n",
    "# Currently the data sits on a drive as JPEG files, so the steps for getting it into the network are roughly as follow:\n",
    "# Read the picture files.\n",
    "#2. Decode the JPEG content to RGB grids of pixel.\n",
    "#3. Convert these into floating-point tensors.\n",
    "#4. Rescale the pixel values (btw 0 and 255) to the [0,1] interval(as neurals prefer 2 deal with small input values)\n",
    "\n",
    "# keras has a module with image-preprocessing helper tools, located at keras.preprocessing.image. In particular,\n",
    "# it contains the class ImageDataGenerator, which lets u quickly setup Python generators that can automatically \n",
    "# turn image files on disk into batches of preprocessed tensors. "
   ]
  },
  {
   "cell_type": "markdown",
   "metadata": {},
   "source": [
    "#### 5.7. Using ImageDataGenerator to read images from directories"
   ]
  },
  {
   "cell_type": "code",
   "execution_count": 48,
   "metadata": {},
   "outputs": [
    {
     "name": "stdout",
     "output_type": "stream",
     "text": [
      "Found 2000 images belonging to 2 classes.\n",
      "Found 1000 images belonging to 2 classes.\n"
     ]
    }
   ],
   "source": [
    "from keras.preprocessing.image import ImageDataGenerator\n",
    "\n",
    "train_datagen = ImageDataGenerator(rescale=1./255)\n",
    "test_datagen = ImageDataGenerator(rescale=1./255)   # rescales all images by 1/255\n",
    "\n",
    "train_generator = train_datagen.flow_from_directory(\n",
    "        train_dir,                      # target dir\n",
    "        target_size=(150, 150),         # resizes all images to 150 x 150 \n",
    "        batch_size=20,\n",
    "        class_mode='binary')            # binary labels needed as binary_crossentropy being used\n",
    "\n",
    "validation_generator = test_datagen.flow_from_directory(\n",
    "        validation_dir,\n",
    "        target_size=(150,150),\n",
    "        batch_size=20,\n",
    "        class_mode='binary')"
   ]
  },
  {
   "cell_type": "markdown",
   "metadata": {},
   "source": [
    "## Understanding Python generators"
   ]
  },
  {
   "cell_type": "code",
   "execution_count": 50,
   "metadata": {},
   "outputs": [
    {
     "name": "stdout",
     "output_type": "stream",
     "text": [
      "1\n",
      "2\n",
      "3\n",
      "4\n",
      "5\n"
     ]
    }
   ],
   "source": [
    "# A Python generator is an object that acts as an iterator: it's an object you can use with the for ... in operator.\n",
    "# Generators are built using the yield operator. e.g., generator that yields integers:\n",
    "\n",
    "def generator():\n",
    "    i = 0\n",
    "    while True:\n",
    "        i += 1\n",
    "        yield i\n",
    "        \n",
    "for item in generator():\n",
    "    print(item)\n",
    "    if item > 4:\n",
    "        break\n",
    "generator();"
   ]
  },
  {
   "cell_type": "code",
   "execution_count": 53,
   "metadata": {},
   "outputs": [
    {
     "name": "stdout",
     "output_type": "stream",
     "text": [
      "data batch shape: (20, 150, 150, 3)\n",
      "labels batch shape: (20,)\n"
     ]
    }
   ],
   "source": [
    "# Let's understand output of ImageDateGenerator above. yields batches 150 x 150 RGB images(shape (20, 150, 150, 3))\n",
    "# and binary labels (shape (20,)). There are 20 samples in each batch(the batch size). generator yields these \n",
    "# batches indefinitely: it loops endlessly over the images in the target folder. For this reason, you need to break the \n",
    "# the iteration loop at some point:\n",
    "\n",
    "for data_batch, labels_batch in train_generator:\n",
    "    print('data batch shape:', data_batch.shape)\n",
    "    print('labels batch shape:', labels_batch.shape)\n",
    "    break"
   ]
  },
  {
   "cell_type": "code",
   "execution_count": 54,
   "metadata": {},
   "outputs": [],
   "source": [
    "# fit the model using fit_generator method. 1st arg a Python generator expected that 'll yield batches of inputs &\n",
    "# targets indefinitely, like this one does. coz the data is being generated endlessly, the Keras model needs to\n",
    "# know how many samples to draw 4rm the generator b4 declaring an epoch over. This is da role of da steps_per_epoch\n",
    "# arg: after having drawn steps_per_epoch batches 4rm the generator-i.e., after having run for steps_per_epoch\n",
    "# gradient descent steps- the fitting process will go to the next epoch. In this case, batches are 20 samples, so \n",
    "# it will take 100 batches until u see ur target of 2000 samples.\n",
    "\n",
    "# Wen usen fit_generator, a validation_data arg can  be passd with the fir method. imp!=> dis arg maybe a data \n",
    "# generator or a tuple of Numpy arrays. If u pass a generator as validation_data, den dis generator is expected\n",
    "# 2 yield batches of validation data endlessly; thus validation_steps arg shud also b specified, telln da process\n",
    "# to draw the specific qty of validation generator 2b drawn for eval."
   ]
  },
  {
   "cell_type": "markdown",
   "metadata": {},
   "source": [
    "### 5.8 Fitting the model using a batch generator"
   ]
  },
  {
   "cell_type": "code",
   "execution_count": 55,
   "metadata": {},
   "outputs": [
    {
     "name": "stderr",
     "output_type": "stream",
     "text": [
      "/home/remo/anaconda3/lib/python3.8/site-packages/tensorflow/python/keras/engine/training.py:1844: UserWarning: `Model.fit_generator` is deprecated and will be removed in a future version. Please use `Model.fit`, which supports generators.\n",
      "  warnings.warn('`Model.fit_generator` is deprecated and '\n"
     ]
    },
    {
     "name": "stdout",
     "output_type": "stream",
     "text": [
      "Epoch 1/30\n",
      "100/100 [==============================] - 63s 622ms/step - loss: 0.6925 - acc: 0.5177 - val_loss: 0.6758 - val_acc: 0.5280\n",
      "Epoch 2/30\n",
      "100/100 [==============================] - 64s 640ms/step - loss: 0.6416 - acc: 0.6224 - val_loss: 0.6435 - val_acc: 0.6120\n",
      "Epoch 3/30\n",
      "100/100 [==============================] - 64s 639ms/step - loss: 0.6032 - acc: 0.6799 - val_loss: 0.6016 - val_acc: 0.6640\n",
      "Epoch 4/30\n",
      "100/100 [==============================] - 64s 638ms/step - loss: 0.5592 - acc: 0.7130 - val_loss: 0.6021 - val_acc: 0.6660\n",
      "Epoch 5/30\n",
      "100/100 [==============================] - 64s 643ms/step - loss: 0.5207 - acc: 0.7418 - val_loss: 0.5760 - val_acc: 0.6930\n",
      "Epoch 6/30\n",
      "100/100 [==============================] - 64s 641ms/step - loss: 0.4974 - acc: 0.7652 - val_loss: 0.5613 - val_acc: 0.7120\n",
      "Epoch 7/30\n",
      "100/100 [==============================] - 64s 644ms/step - loss: 0.4697 - acc: 0.7735 - val_loss: 0.5639 - val_acc: 0.7050\n",
      "Epoch 8/30\n",
      "100/100 [==============================] - 64s 640ms/step - loss: 0.4581 - acc: 0.7836 - val_loss: 0.5531 - val_acc: 0.7150\n",
      "Epoch 9/30\n",
      "100/100 [==============================] - 65s 646ms/step - loss: 0.4315 - acc: 0.7997 - val_loss: 0.5474 - val_acc: 0.7180\n",
      "Epoch 10/30\n",
      "100/100 [==============================] - 65s 647ms/step - loss: 0.4027 - acc: 0.8209 - val_loss: 0.5609 - val_acc: 0.7180\n",
      "Epoch 11/30\n",
      "100/100 [==============================] - 65s 650ms/step - loss: 0.3892 - acc: 0.8244 - val_loss: 0.5409 - val_acc: 0.7270\n",
      "Epoch 12/30\n",
      "100/100 [==============================] - 65s 652ms/step - loss: 0.3465 - acc: 0.8441 - val_loss: 0.5224 - val_acc: 0.7420\n",
      "Epoch 13/30\n",
      "100/100 [==============================] - 65s 652ms/step - loss: 0.3239 - acc: 0.8642 - val_loss: 0.8473 - val_acc: 0.6660\n",
      "Epoch 14/30\n",
      "100/100 [==============================] - 65s 649ms/step - loss: 0.3207 - acc: 0.8658 - val_loss: 0.5466 - val_acc: 0.7360\n",
      "Epoch 15/30\n",
      "100/100 [==============================] - 65s 653ms/step - loss: 0.2845 - acc: 0.8867 - val_loss: 0.5940 - val_acc: 0.7260\n",
      "Epoch 16/30\n",
      "100/100 [==============================] - 66s 657ms/step - loss: 0.2612 - acc: 0.9023 - val_loss: 0.5736 - val_acc: 0.7240\n",
      "Epoch 17/30\n",
      "100/100 [==============================] - 65s 647ms/step - loss: 0.2291 - acc: 0.9157 - val_loss: 0.5960 - val_acc: 0.7460\n",
      "Epoch 18/30\n",
      "100/100 [==============================] - 65s 655ms/step - loss: 0.2196 - acc: 0.9071 - val_loss: 0.6955 - val_acc: 0.7080\n",
      "Epoch 19/30\n",
      "100/100 [==============================] - 66s 663ms/step - loss: 0.1973 - acc: 0.9288 - val_loss: 0.6403 - val_acc: 0.7350\n",
      "Epoch 20/30\n",
      "100/100 [==============================] - 66s 657ms/step - loss: 0.1717 - acc: 0.9367 - val_loss: 0.6255 - val_acc: 0.7320\n",
      "Epoch 21/30\n",
      "100/100 [==============================] - 65s 653ms/step - loss: 0.1576 - acc: 0.9463 - val_loss: 0.6459 - val_acc: 0.7360\n",
      "Epoch 22/30\n",
      "100/100 [==============================] - 66s 656ms/step - loss: 0.1313 - acc: 0.9604 - val_loss: 0.6905 - val_acc: 0.7390\n",
      "Epoch 23/30\n",
      "100/100 [==============================] - 67s 665ms/step - loss: 0.1243 - acc: 0.9594 - val_loss: 0.6919 - val_acc: 0.7420\n",
      "Epoch 24/30\n",
      "100/100 [==============================] - 66s 659ms/step - loss: 0.1101 - acc: 0.9662 - val_loss: 0.7337 - val_acc: 0.7310\n",
      "Epoch 25/30\n",
      "100/100 [==============================] - 66s 658ms/step - loss: 0.0970 - acc: 0.9704 - val_loss: 0.8185 - val_acc: 0.7210\n",
      "Epoch 26/30\n",
      "100/100 [==============================] - 66s 656ms/step - loss: 0.0830 - acc: 0.9762 - val_loss: 0.8069 - val_acc: 0.7230\n",
      "Epoch 27/30\n",
      "100/100 [==============================] - 67s 669ms/step - loss: 0.0652 - acc: 0.9843 - val_loss: 0.7973 - val_acc: 0.7290\n",
      "Epoch 28/30\n",
      "100/100 [==============================] - 66s 655ms/step - loss: 0.0586 - acc: 0.9846 - val_loss: 1.0033 - val_acc: 0.7150\n",
      "Epoch 29/30\n",
      "100/100 [==============================] - 66s 658ms/step - loss: 0.0441 - acc: 0.9909 - val_loss: 0.8978 - val_acc: 0.7320\n",
      "Epoch 30/30\n",
      "100/100 [==============================] - 65s 649ms/step - loss: 0.0381 - acc: 0.9900 - val_loss: 0.9443 - val_acc: 0.7320\n"
     ]
    }
   ],
   "source": [
    "history = model.fit_generator(\n",
    "        train_generator,\n",
    "        steps_per_epoch=100,\n",
    "        epochs=30,\n",
    "        validation_data=validation_generator,\n",
    "        validation_steps=50)"
   ]
  },
  {
   "cell_type": "code",
   "execution_count": 56,
   "metadata": {},
   "outputs": [],
   "source": [
    "model.save('cats_and_dogs_small_1.h5')"
   ]
  },
  {
   "cell_type": "markdown",
   "metadata": {},
   "source": [
    "#### 5.9. Displaying curves of loss and accuracy during training"
   ]
  },
  {
   "cell_type": "code",
   "execution_count": 57,
   "metadata": {},
   "outputs": [
    {
     "data": {
      "image/png": "[encoded data removed]",
      "text/plain": [
       "<Figure size 432x288 with 1 Axes>"
      ]
     },
     "metadata": {
      "needs_background": "light"
     },
     "output_type": "display_data"
    },
    {
     "data": {
      "image/png": "[encoded data removed]",
      "text/plain": [
       "<Figure size 432x288 with 1 Axes>"
      ]
     },
     "metadata": {
      "needs_background": "light"
     },
     "output_type": "display_data"
    }
   ],
   "source": [
    "import matplotlib.pyplot as plt\n",
    "\n",
    "acc = history.history['acc']\n",
    "val_acc = history.history['val_acc']\n",
    "loss = history.history['loss']\n",
    "val_loss = history.history['val_loss']\n",
    "\n",
    "epochs = range(1, len(acc) + 1)\n",
    "\n",
    "plt.plot(epochs, acc, 'bo', label='Training acc')\n",
    "plt.plot(epochs, val_acc, 'b', label= 'Validation acc')\n",
    "plt.title('Training and validation accuracy')\n",
    "plt.legend()\n",
    "\n",
    "plt.figure()\n",
    "\n",
    "plt.plot(epochs, loss, 'bo', label='Training loss')\n",
    "plt.plot(epochs, val_loss, 'b', label= 'Validation loss')\n",
    "plt.title('Training and validation loss')\n",
    "plt.legend()\n",
    "\n",
    "plt.show()\n",
    "\n"
   ]
  },
  {
   "cell_type": "code",
   "execution_count": null,
   "metadata": {},
   "outputs": [],
   "source": [
    "# above plots characterstic of overfitting. training_acc increases linearly until 100% while val_acc stalls at 70-72%.\n",
    "# val_loss reaches min after 5 epochs and then stalls whereas training_loss keeps decreasing linearly until 0.\n",
    "# overfitting main concern since few training samples(2000). techneqs dat can help mitigate overfitting such\n",
    "# as dropout and weight decay(L2 regularization.). We r going to work vid a new one specific to computer vision\n",
    "# & used almost universally when processing images with deep-learning models: data augmentation."
   ]
  },
  {
   "cell_type": "markdown",
   "metadata": {},
   "source": [
    "#### 5.10 Using data augmentation"
   ]
  },
  {
   "cell_type": "code",
   "execution_count": 60,
   "metadata": {},
   "outputs": [],
   "source": [
    "#generates more training data 4rm existing training samples, by augmenting the samples via a no. of random\n",
    "# transformations yielding believable-looking images. goal is dat at training time, mode vil neva c da exect same \n",
    "# pic twice. ecposes model 2 more aspects of da data 4 betar generalization.\n",
    "# In keras, this can b done by configuring a no. of random transformations 2b performed on the images red by da\n",
    "# ImageDataGenerator inst. Let's get started."
   ]
  },
  {
   "cell_type": "markdown",
   "metadata": {},
   "source": [
    "#### 5.11 Setting up a data augmentation configuration via ImageDataGenerator"
   ]
  },
  {
   "cell_type": "code",
   "execution_count": 59,
   "metadata": {},
   "outputs": [],
   "source": [
    "datagen = ImageDataGenerator(\n",
    "        rotation_range=40,    # value in degrees-range within which 2 randomly rotate pix.\n",
    "        width_shift_range=0.2, # ranges within which 2 randomly translate pix horizontally & vertically\n",
    "        height_shift_range=0.2,\n",
    "        shear_range=0.2,       # 4 randomly applyn shear transformations\n",
    "        zoom_range=0.2,        # 4 randomly zooming inside pix.\n",
    "        horizontal_flip=True,  # randomly flipping half the images horizontally relevnt wen no horizontal assymetry(like real world e.gs) \n",
    "        fill_mode='nearest')   # filing in newly created px appearen after rotation or width/height shift/"
   ]
  },
  {
   "cell_type": "markdown",
   "metadata": {},
   "source": [
    "#### 5.12 Displaying some randomly augmented training images"
   ]
  },
  {
   "cell_type": "code",
   "execution_count": 66,
   "metadata": {},
   "outputs": [
    {
     "data": {
      "image/png": "[encoded data removed]",
      "text/plain": [
       "<Figure size 432x288 with 1 Axes>"
      ]
     },
     "metadata": {
      "needs_background": "light"
     },
     "output_type": "display_data"
    },
    {
     "data": {
      "image/png": "[encoded data removed]",
      "text/plain": [
       "<Figure size 432x288 with 1 Axes>"
      ]
     },
     "metadata": {
      "needs_background": "light"
     },
     "output_type": "display_data"
    },
    {
     "data": {
      "image/png": "[encoded data removed]",
      "text/plain": [
       "<Figure size 432x288 with 1 Axes>"
      ]
     },
     "metadata": {
      "needs_background": "light"
     },
     "output_type": "display_data"
    },
    {
     "data": {
      "image/png": "[encoded data removed]",
      "text/plain": [
       "<Figure size 432x288 with 1 Axes>"
      ]
     },
     "metadata": {
      "needs_background": "light"
     },
     "output_type": "display_data"
    }
   ],
   "source": [
    "from keras.preprocessing import image   # Module with image-preprocessing utilities\n",
    "fnames = [os.path.join(train_cats_dir, fname) for\n",
    "         fname in os.listdir(train_cats_dir)]\n",
    "img_path = fnames[3]                    # choose one image to augment\n",
    "img = image.load_img(img_path, target_size=(150, 150))      # Reads the image and resizes it\n",
    "x = image.img_to_array(img)             # Converts it to a Numpy array with shape (150, 150, 3)\n",
    "\n",
    "x = x.reshape((1,) + x.shape)           # Reshapes it to (1, 150, 150, 3)\n",
    "\n",
    "i = 0\n",
    "for batch in datagen.flow(x, batch_size=1):\n",
    "    plt.figure(i)\n",
    "    imgplot = plt.imshow(image.array_to_img(batch[0]))\n",
    "    i += 1\n",
    "    if i % 4 == 0:\n",
    "        break\n",
    "        \n",
    "    plt.show()"
   ]
  },
  {
   "cell_type": "code",
   "execution_count": 63,
   "metadata": {},
   "outputs": [],
   "source": [
    "# if u train a new network using this data-augmentation config, the network will never s the same input twice. \n",
    "# inputs r heavily interconnected as remixing existing info. no new info. difficult completely eliminate overfitting.\n",
    "# further reduce overfitting, add a Dropout layer too ur model, right before the densely connected classifier."
   ]
  },
  {
   "cell_type": "markdown",
   "metadata": {},
   "source": [
    "## 5.13 Defining a new convnet that includes dropout"
   ]
  },
  {
   "cell_type": "code",
   "execution_count": 67,
   "metadata": {},
   "outputs": [],
   "source": [
    "model = models.Sequential()\n",
    "model.add(layers.Conv2D(32, (3, 3), activation='relu',\n",
    "                         input_shape=(150, 150, 3)))\n",
    "model.add(layers.MaxPooling2D((2, 2)))\n",
    "model.add(layers.Conv2D(64, (3,3), activation='relu'))\n",
    "model.add(layers.MaxPooling2D((2, 2)))\n",
    "model.add(layers.Conv2D(128, (3,3), activation='relu'))\n",
    "model.add(layers.MaxPooling2D((2, 2)))\n",
    "model.add(layers.Conv2D(128, (3,3), activation='relu'))\n",
    "model.add(layers.MaxPooling2D((2, 2)))\n",
    "model.add(layers.Flatten())\n",
    "model.add(layers.Dropout(0.5))\n",
    "model.add(layers.Dense(512, activation='relu'))\n",
    "model.add(layers.Dense(1, activation='sigmoid'))\n",
    "\n",
    "model.compile(loss='binary_crossentropy',\n",
    "              optimizer=optimizers.RMSprop(lr=1e-4),\n",
    "              metrics=['acc'])"
   ]
  },
  {
   "cell_type": "markdown",
   "metadata": {},
   "source": [
    "# 5.14 Training the convnet using data-augmentation generators"
   ]
  },
  {
   "cell_type": "code",
   "execution_count": 70,
   "metadata": {},
   "outputs": [
    {
     "name": "stdout",
     "output_type": "stream",
     "text": [
      "Found 2000 images belonging to 2 classes.\n",
      "Found 1000 images belonging to 2 classes.\n",
      "Epoch 1/100\n",
      "63/63 [==============================] - ETA: 0s - loss: 0.6770 - acc: 0.5690WARNING:tensorflow:Your input ran out of data; interrupting training. Make sure that your dataset or generator can generate at least `steps_per_epoch * epochs` batches (in this case, 50 batches). You may need to use the repeat() function when building your dataset.\n",
      "63/63 [==============================] - 64s 1s/step - loss: 0.6770 - acc: 0.5690 - val_loss: 0.6568 - val_acc: 0.6130\n",
      "Epoch 2/100\n",
      "63/63 [==============================] - 58s 918ms/step - loss: 0.6668 - acc: 0.5850\n",
      "Epoch 3/100\n",
      "63/63 [==============================] - 58s 922ms/step - loss: 0.6474 - acc: 0.6065\n",
      "Epoch 4/100\n",
      "63/63 [==============================] - 58s 923ms/step - loss: 0.6420 - acc: 0.6235\n",
      "Epoch 5/100\n",
      "63/63 [==============================] - 58s 924ms/step - loss: 0.6315 - acc: 0.6455\n",
      "Epoch 6/100\n",
      "63/63 [==============================] - 59s 933ms/step - loss: 0.6101 - acc: 0.6545\n",
      "Epoch 7/100\n",
      "63/63 [==============================] - 58s 920ms/step - loss: 0.6109 - acc: 0.6610\n",
      "Epoch 8/100\n",
      "63/63 [==============================] - 58s 924ms/step - loss: 0.5988 - acc: 0.6830\n",
      "Epoch 9/100\n",
      "63/63 [==============================] - 58s 925ms/step - loss: 0.5941 - acc: 0.6860\n",
      "Epoch 10/100\n",
      "63/63 [==============================] - 58s 920ms/step - loss: 0.5919 - acc: 0.6900\n",
      "Epoch 11/100\n",
      "63/63 [==============================] - 60s 946ms/step - loss: 0.5929 - acc: 0.6780\n",
      "Epoch 12/100\n",
      "63/63 [==============================] - 60s 947ms/step - loss: 0.5875 - acc: 0.6815\n",
      "Epoch 13/100\n",
      "63/63 [==============================] - 60s 944ms/step - loss: 0.5807 - acc: 0.6930\n",
      "Epoch 14/100\n",
      "63/63 [==============================] - 59s 939ms/step - loss: 0.5805 - acc: 0.6895\n",
      "Epoch 15/100\n",
      "63/63 [==============================] - 60s 950ms/step - loss: 0.5613 - acc: 0.7090\n",
      "Epoch 16/100\n",
      "63/63 [==============================] - 60s 954ms/step - loss: 0.5739 - acc: 0.7025\n",
      "Epoch 17/100\n",
      "63/63 [==============================] - 61s 958ms/step - loss: 0.5655 - acc: 0.6975\n",
      "Epoch 18/100\n",
      "63/63 [==============================] - 61s 963ms/step - loss: 0.5709 - acc: 0.7030\n",
      "Epoch 19/100\n",
      "63/63 [==============================] - 61s 968ms/step - loss: 0.5618 - acc: 0.7130\n",
      "Epoch 20/100\n",
      "63/63 [==============================] - 62s 983ms/step - loss: 0.5592 - acc: 0.7230\n",
      "Epoch 21/100\n",
      "63/63 [==============================] - 62s 986ms/step - loss: 0.5497 - acc: 0.7210\n",
      "Epoch 22/100\n",
      "63/63 [==============================] - 63s 997ms/step - loss: 0.5529 - acc: 0.7095\n",
      "Epoch 23/100\n",
      "63/63 [==============================] - 63s 1s/step - loss: 0.5465 - acc: 0.7245\n",
      "Epoch 24/100\n",
      "63/63 [==============================] - 62s 987ms/step - loss: 0.5357 - acc: 0.7265\n",
      "Epoch 25/100\n",
      "63/63 [==============================] - 62s 984ms/step - loss: 0.5422 - acc: 0.7330\n",
      "Epoch 26/100\n",
      "63/63 [==============================] - 62s 982ms/step - loss: 0.5277 - acc: 0.7280\n",
      "Epoch 27/100\n",
      "63/63 [==============================] - 59s 933ms/step - loss: 0.5442 - acc: 0.7255\n",
      "Epoch 28/100\n",
      "63/63 [==============================] - 60s 943ms/step - loss: 0.5344 - acc: 0.7210\n",
      "Epoch 29/100\n",
      "63/63 [==============================] - 60s 950ms/step - loss: 0.5344 - acc: 0.7235\n",
      "Epoch 30/100\n",
      "63/63 [==============================] - 60s 948ms/step - loss: 0.5264 - acc: 0.7325\n",
      "Epoch 31/100\n",
      "63/63 [==============================] - 60s 941ms/step - loss: 0.5179 - acc: 0.7390\n",
      "Epoch 32/100\n",
      "63/63 [==============================] - 60s 949ms/step - loss: 0.5312 - acc: 0.7310\n",
      "Epoch 33/100\n",
      "63/63 [==============================] - 60s 942ms/step - loss: 0.5273 - acc: 0.7365\n",
      "Epoch 34/100\n",
      "63/63 [==============================] - 59s 934ms/step - loss: 0.5161 - acc: 0.7385\n",
      "Epoch 35/100\n",
      "63/63 [==============================] - 60s 955ms/step - loss: 0.5157 - acc: 0.7435\n",
      "Epoch 36/100\n",
      "63/63 [==============================] - 60s 948ms/step - loss: 0.5102 - acc: 0.7450\n",
      "Epoch 37/100\n",
      "63/63 [==============================] - 60s 948ms/step - loss: 0.5017 - acc: 0.7580\n",
      "Epoch 38/100\n",
      "63/63 [==============================] - 61s 960ms/step - loss: 0.5082 - acc: 0.7445\n",
      "Epoch 39/100\n",
      "63/63 [==============================] - 60s 945ms/step - loss: 0.5186 - acc: 0.7280\n",
      "Epoch 40/100\n",
      "63/63 [==============================] - 61s 958ms/step - loss: 0.4958 - acc: 0.7550\n",
      "Epoch 41/100\n",
      "63/63 [==============================] - 60s 944ms/step - loss: 0.5136 - acc: 0.7440\n",
      "Epoch 42/100\n",
      "63/63 [==============================] - 61s 967ms/step - loss: 0.4922 - acc: 0.7585\n",
      "Epoch 43/100\n",
      "63/63 [==============================] - 59s 937ms/step - loss: 0.4938 - acc: 0.7620\n",
      "Epoch 44/100\n",
      "63/63 [==============================] - 60s 951ms/step - loss: 0.4972 - acc: 0.7605\n",
      "Epoch 45/100\n",
      "63/63 [==============================] - 60s 946ms/step - loss: 0.5043 - acc: 0.7505\n",
      "Epoch 46/100\n",
      "63/63 [==============================] - 60s 952ms/step - loss: 0.4934 - acc: 0.7700\n",
      "Epoch 47/100\n",
      "63/63 [==============================] - 59s 940ms/step - loss: 0.4813 - acc: 0.7710\n",
      "Epoch 48/100\n",
      "63/63 [==============================] - 60s 948ms/step - loss: 0.4789 - acc: 0.7740\n",
      "Epoch 49/100\n",
      "63/63 [==============================] - 61s 958ms/step - loss: 0.4963 - acc: 0.7615\n",
      "Epoch 50/100\n",
      "63/63 [==============================] - 61s 958ms/step - loss: 0.4903 - acc: 0.7565\n",
      "Epoch 51/100\n",
      "63/63 [==============================] - 60s 952ms/step - loss: 0.4692 - acc: 0.7740\n",
      "Epoch 52/100\n",
      "63/63 [==============================] - 59s 934ms/step - loss: 0.4819 - acc: 0.7650\n",
      "Epoch 53/100\n",
      "63/63 [==============================] - 61s 960ms/step - loss: 0.4764 - acc: 0.7705\n",
      "Epoch 54/100\n",
      "63/63 [==============================] - 60s 956ms/step - loss: 0.4798 - acc: 0.7610\n",
      "Epoch 55/100\n",
      "63/63 [==============================] - 63s 996ms/step - loss: 0.4736 - acc: 0.7700\n",
      "Epoch 56/100\n",
      "63/63 [==============================] - 60s 952ms/step - loss: 0.4721 - acc: 0.7765\n",
      "Epoch 57/100\n",
      "63/63 [==============================] - 63s 990ms/step - loss: 0.4828 - acc: 0.7640\n",
      "Epoch 58/100\n",
      "63/63 [==============================] - 60s 945ms/step - loss: 0.4712 - acc: 0.7705\n",
      "Epoch 59/100\n",
      "63/63 [==============================] - 60s 946ms/step - loss: 0.4687 - acc: 0.7715\n",
      "Epoch 60/100\n",
      "63/63 [==============================] - 60s 956ms/step - loss: 0.4629 - acc: 0.7725\n",
      "Epoch 61/100\n",
      "63/63 [==============================] - 60s 955ms/step - loss: 0.4688 - acc: 0.7785\n",
      "Epoch 62/100\n",
      "63/63 [==============================] - 61s 969ms/step - loss: 0.4597 - acc: 0.7820\n",
      "Epoch 63/100\n",
      "63/63 [==============================] - 61s 969ms/step - loss: 0.4611 - acc: 0.7755\n",
      "Epoch 64/100\n",
      "63/63 [==============================] - 61s 962ms/step - loss: 0.4608 - acc: 0.7810\n",
      "Epoch 65/100\n",
      "63/63 [==============================] - 62s 975ms/step - loss: 0.4548 - acc: 0.7815\n",
      "Epoch 66/100\n",
      "63/63 [==============================] - 62s 981ms/step - loss: 0.4602 - acc: 0.7810\n",
      "Epoch 67/100\n",
      "63/63 [==============================] - 63s 1s/step - loss: 0.4462 - acc: 0.7855\n",
      "Epoch 68/100\n",
      "63/63 [==============================] - 61s 961ms/step - loss: 0.4573 - acc: 0.7760\n",
      "Epoch 69/100\n",
      "63/63 [==============================] - 60s 954ms/step - loss: 0.4514 - acc: 0.7855\n",
      "Epoch 70/100\n",
      "63/63 [==============================] - 60s 949ms/step - loss: 0.4447 - acc: 0.7870\n",
      "Epoch 71/100\n",
      "63/63 [==============================] - 60s 947ms/step - loss: 0.4450 - acc: 0.7915\n",
      "Epoch 72/100\n",
      "63/63 [==============================] - 61s 957ms/step - loss: 0.4463 - acc: 0.7875\n",
      "Epoch 73/100\n",
      "63/63 [==============================] - 60s 946ms/step - loss: 0.4448 - acc: 0.7865\n",
      "Epoch 74/100\n",
      "63/63 [==============================] - 61s 970ms/step - loss: 0.4485 - acc: 0.7895\n",
      "Epoch 75/100\n",
      "63/63 [==============================] - 59s 936ms/step - loss: 0.4353 - acc: 0.7960\n",
      "Epoch 76/100\n",
      "63/63 [==============================] - 59s 932ms/step - loss: 0.4432 - acc: 0.7935\n",
      "Epoch 77/100\n",
      "63/63 [==============================] - 60s 944ms/step - loss: 0.4321 - acc: 0.8030\n",
      "Epoch 78/100\n",
      "63/63 [==============================] - 59s 939ms/step - loss: 0.4384 - acc: 0.7845\n",
      "Epoch 79/100\n",
      "63/63 [==============================] - 59s 931ms/step - loss: 0.4434 - acc: 0.7940\n",
      "Epoch 80/100\n"
     ]
    },
    {
     "name": "stdout",
     "output_type": "stream",
     "text": [
      "63/63 [==============================] - 60s 947ms/step - loss: 0.4273 - acc: 0.7975\n",
      "Epoch 81/100\n",
      "63/63 [==============================] - 62s 984ms/step - loss: 0.4248 - acc: 0.8055\n",
      "Epoch 82/100\n",
      "63/63 [==============================] - 60s 950ms/step - loss: 0.4447 - acc: 0.7840\n",
      "Epoch 83/100\n",
      "63/63 [==============================] - 60s 945ms/step - loss: 0.4342 - acc: 0.7990\n",
      "Epoch 84/100\n",
      "63/63 [==============================] - 59s 934ms/step - loss: 0.4430 - acc: 0.7995\n",
      "Epoch 85/100\n",
      "63/63 [==============================] - 59s 941ms/step - loss: 0.4290 - acc: 0.7965\n",
      "Epoch 86/100\n",
      "63/63 [==============================] - 60s 947ms/step - loss: 0.4228 - acc: 0.8010\n",
      "Epoch 87/100\n",
      "63/63 [==============================] - 60s 950ms/step - loss: 0.4364 - acc: 0.7930\n",
      "Epoch 88/100\n",
      "63/63 [==============================] - 60s 950ms/step - loss: 0.4172 - acc: 0.8065\n",
      "Epoch 89/100\n",
      "63/63 [==============================] - 60s 946ms/step - loss: 0.4213 - acc: 0.8065\n",
      "Epoch 90/100\n",
      "63/63 [==============================] - 59s 933ms/step - loss: 0.4319 - acc: 0.8005\n",
      "Epoch 91/100\n",
      "63/63 [==============================] - 60s 954ms/step - loss: 0.4189 - acc: 0.8155\n",
      "Epoch 92/100\n",
      "63/63 [==============================] - 62s 985ms/step - loss: 0.4202 - acc: 0.8090\n",
      "Epoch 93/100\n",
      "63/63 [==============================] - 60s 955ms/step - loss: 0.4044 - acc: 0.8145\n",
      "Epoch 94/100\n",
      "63/63 [==============================] - 60s 956ms/step - loss: 0.4056 - acc: 0.8185\n",
      "Epoch 95/100\n",
      "63/63 [==============================] - 63s 994ms/step - loss: 0.4142 - acc: 0.8055\n",
      "Epoch 96/100\n",
      "63/63 [==============================] - 66s 1s/step - loss: 0.4108 - acc: 0.8090\n",
      "Epoch 97/100\n",
      "63/63 [==============================] - 61s 962ms/step - loss: 0.4117 - acc: 0.8040\n",
      "Epoch 98/100\n",
      "63/63 [==============================] - 61s 958ms/step - loss: 0.4049 - acc: 0.8125\n",
      "Epoch 99/100\n",
      "63/63 [==============================] - 60s 949ms/step - loss: 0.4000 - acc: 0.8225\n",
      "Epoch 100/100\n",
      "63/63 [==============================] - 61s 969ms/step - loss: 0.4205 - acc: 0.7985\n"
     ]
    }
   ],
   "source": [
    "train_datagen = ImageDataGenerator(\n",
    "    rescale=1./255,\n",
    "    rotation_range=40,\n",
    "    width_shift_range=0.2,\n",
    "    height_shift_range=0.2,\n",
    "    shear_range=0.2,\n",
    "    zoom_range=0.2,\n",
    "    horizontal_flip=True,)\n",
    "\n",
    "test_datagen = ImageDataGenerator(rescale=1./255)   # Note dat the validation data shudnt be augmented\n",
    "\n",
    "train_generator = train_datagen.flow_from_directory(\n",
    "        train_dir,                      # target dir\n",
    "        target_size=(150, 150),         # resizes all images to 150 x 150 \n",
    "        batch_size=32,\n",
    "        class_mode='binary')            # binary labels needed as binary_crossentropy being used\n",
    "\n",
    "validation_generator = test_datagen.flow_from_directory(\n",
    "        validation_dir,\n",
    "        target_size=(150,150),\n",
    "        batch_size=32,\n",
    "        class_mode='binary')\n",
    "\n",
    "history = model.fit_generator(\n",
    "        train_generator,\n",
    "        steps_per_epoch=63,\n",
    "        epochs=100,\n",
    "        validation_data=validation_generator,\n",
    "        validation_steps=50)"
   ]
  },
  {
   "cell_type": "code",
   "execution_count": null,
   "metadata": {},
   "outputs": [],
   "source": [
    "# 5.15 Saving the model"
   ]
  },
  {
   "cell_type": "code",
   "execution_count": 71,
   "metadata": {},
   "outputs": [],
   "source": [
    "model.save('cats_and_dogs_small_2.h5')"
   ]
  },
  {
   "cell_type": "code",
   "execution_count": 72,
   "metadata": {},
   "outputs": [
    {
     "ename": "ValueError",
     "evalue": "x and y must have same first dimension, but have shapes (100,) and (1,)",
     "output_type": "error",
     "traceback": [
      "\u001b[0;31m---------------------------------------------------------------------------\u001b[0m",
      "\u001b[0;31mValueError\u001b[0m                                Traceback (most recent call last)",
      "\u001b[0;32m<ipython-input-72-922ac07809b2>\u001b[0m in \u001b[0;36m<module>\u001b[0;34m\u001b[0m\n\u001b[1;32m      9\u001b[0m \u001b[0;34m\u001b[0m\u001b[0m\n\u001b[1;32m     10\u001b[0m \u001b[0mplt\u001b[0m\u001b[0;34m.\u001b[0m\u001b[0mplot\u001b[0m\u001b[0;34m(\u001b[0m\u001b[0mepochs\u001b[0m\u001b[0;34m,\u001b[0m \u001b[0macc\u001b[0m\u001b[0;34m,\u001b[0m \u001b[0;34m'bo'\u001b[0m\u001b[0;34m,\u001b[0m \u001b[0mlabel\u001b[0m\u001b[0;34m=\u001b[0m\u001b[0;34m'Training acc'\u001b[0m\u001b[0;34m)\u001b[0m\u001b[0;34m\u001b[0m\u001b[0;34m\u001b[0m\u001b[0m\n\u001b[0;32m---> 11\u001b[0;31m \u001b[0mplt\u001b[0m\u001b[0;34m.\u001b[0m\u001b[0mplot\u001b[0m\u001b[0;34m(\u001b[0m\u001b[0mepochs\u001b[0m\u001b[0;34m,\u001b[0m \u001b[0mval_acc\u001b[0m\u001b[0;34m,\u001b[0m \u001b[0;34m'b'\u001b[0m\u001b[0;34m,\u001b[0m \u001b[0mlabel\u001b[0m\u001b[0;34m=\u001b[0m \u001b[0;34m'Validation acc'\u001b[0m\u001b[0;34m)\u001b[0m\u001b[0;34m\u001b[0m\u001b[0;34m\u001b[0m\u001b[0m\n\u001b[0m\u001b[1;32m     12\u001b[0m \u001b[0mplt\u001b[0m\u001b[0;34m.\u001b[0m\u001b[0mtitle\u001b[0m\u001b[0;34m(\u001b[0m\u001b[0;34m'Training and validation accuracy'\u001b[0m\u001b[0;34m)\u001b[0m\u001b[0;34m\u001b[0m\u001b[0;34m\u001b[0m\u001b[0m\n\u001b[1;32m     13\u001b[0m \u001b[0mplt\u001b[0m\u001b[0;34m.\u001b[0m\u001b[0mlegend\u001b[0m\u001b[0;34m(\u001b[0m\u001b[0;34m)\u001b[0m\u001b[0;34m\u001b[0m\u001b[0;34m\u001b[0m\u001b[0m\n",
      "\u001b[0;32m~/anaconda3/lib/python3.8/site-packages/matplotlib/pyplot.py\u001b[0m in \u001b[0;36mplot\u001b[0;34m(scalex, scaley, data, *args, **kwargs)\u001b[0m\n\u001b[1;32m   2838\u001b[0m \u001b[0;34m@\u001b[0m\u001b[0m_copy_docstring_and_deprecators\u001b[0m\u001b[0;34m(\u001b[0m\u001b[0mAxes\u001b[0m\u001b[0;34m.\u001b[0m\u001b[0mplot\u001b[0m\u001b[0;34m)\u001b[0m\u001b[0;34m\u001b[0m\u001b[0;34m\u001b[0m\u001b[0m\n\u001b[1;32m   2839\u001b[0m \u001b[0;32mdef\u001b[0m \u001b[0mplot\u001b[0m\u001b[0;34m(\u001b[0m\u001b[0;34m*\u001b[0m\u001b[0margs\u001b[0m\u001b[0;34m,\u001b[0m \u001b[0mscalex\u001b[0m\u001b[0;34m=\u001b[0m\u001b[0;32mTrue\u001b[0m\u001b[0;34m,\u001b[0m \u001b[0mscaley\u001b[0m\u001b[0;34m=\u001b[0m\u001b[0;32mTrue\u001b[0m\u001b[0;34m,\u001b[0m \u001b[0mdata\u001b[0m\u001b[0;34m=\u001b[0m\u001b[0;32mNone\u001b[0m\u001b[0;34m,\u001b[0m \u001b[0;34m**\u001b[0m\u001b[0mkwargs\u001b[0m\u001b[0;34m)\u001b[0m\u001b[0;34m:\u001b[0m\u001b[0;34m\u001b[0m\u001b[0;34m\u001b[0m\u001b[0m\n\u001b[0;32m-> 2840\u001b[0;31m     return gca().plot(\n\u001b[0m\u001b[1;32m   2841\u001b[0m         \u001b[0;34m*\u001b[0m\u001b[0margs\u001b[0m\u001b[0;34m,\u001b[0m \u001b[0mscalex\u001b[0m\u001b[0;34m=\u001b[0m\u001b[0mscalex\u001b[0m\u001b[0;34m,\u001b[0m \u001b[0mscaley\u001b[0m\u001b[0;34m=\u001b[0m\u001b[0mscaley\u001b[0m\u001b[0;34m,\u001b[0m\u001b[0;34m\u001b[0m\u001b[0;34m\u001b[0m\u001b[0m\n\u001b[1;32m   2842\u001b[0m         **({\"data\": data} if data is not None else {}), **kwargs)\n",
      "\u001b[0;32m~/anaconda3/lib/python3.8/site-packages/matplotlib/axes/_axes.py\u001b[0m in \u001b[0;36mplot\u001b[0;34m(self, scalex, scaley, data, *args, **kwargs)\u001b[0m\n\u001b[1;32m   1741\u001b[0m         \"\"\"\n\u001b[1;32m   1742\u001b[0m         \u001b[0mkwargs\u001b[0m \u001b[0;34m=\u001b[0m \u001b[0mcbook\u001b[0m\u001b[0;34m.\u001b[0m\u001b[0mnormalize_kwargs\u001b[0m\u001b[0;34m(\u001b[0m\u001b[0mkwargs\u001b[0m\u001b[0;34m,\u001b[0m \u001b[0mmlines\u001b[0m\u001b[0;34m.\u001b[0m\u001b[0mLine2D\u001b[0m\u001b[0;34m)\u001b[0m\u001b[0;34m\u001b[0m\u001b[0;34m\u001b[0m\u001b[0m\n\u001b[0;32m-> 1743\u001b[0;31m         \u001b[0mlines\u001b[0m \u001b[0;34m=\u001b[0m \u001b[0;34m[\u001b[0m\u001b[0;34m*\u001b[0m\u001b[0mself\u001b[0m\u001b[0;34m.\u001b[0m\u001b[0m_get_lines\u001b[0m\u001b[0;34m(\u001b[0m\u001b[0;34m*\u001b[0m\u001b[0margs\u001b[0m\u001b[0;34m,\u001b[0m \u001b[0mdata\u001b[0m\u001b[0;34m=\u001b[0m\u001b[0mdata\u001b[0m\u001b[0;34m,\u001b[0m \u001b[0;34m**\u001b[0m\u001b[0mkwargs\u001b[0m\u001b[0;34m)\u001b[0m\u001b[0;34m]\u001b[0m\u001b[0;34m\u001b[0m\u001b[0;34m\u001b[0m\u001b[0m\n\u001b[0m\u001b[1;32m   1744\u001b[0m         \u001b[0;32mfor\u001b[0m \u001b[0mline\u001b[0m \u001b[0;32min\u001b[0m \u001b[0mlines\u001b[0m\u001b[0;34m:\u001b[0m\u001b[0;34m\u001b[0m\u001b[0;34m\u001b[0m\u001b[0m\n\u001b[1;32m   1745\u001b[0m             \u001b[0mself\u001b[0m\u001b[0;34m.\u001b[0m\u001b[0madd_line\u001b[0m\u001b[0;34m(\u001b[0m\u001b[0mline\u001b[0m\u001b[0;34m)\u001b[0m\u001b[0;34m\u001b[0m\u001b[0;34m\u001b[0m\u001b[0m\n",
      "\u001b[0;32m~/anaconda3/lib/python3.8/site-packages/matplotlib/axes/_base.py\u001b[0m in \u001b[0;36m__call__\u001b[0;34m(self, data, *args, **kwargs)\u001b[0m\n\u001b[1;32m    271\u001b[0m                 \u001b[0mthis\u001b[0m \u001b[0;34m+=\u001b[0m \u001b[0margs\u001b[0m\u001b[0;34m[\u001b[0m\u001b[0;36m0\u001b[0m\u001b[0;34m]\u001b[0m\u001b[0;34m,\u001b[0m\u001b[0;34m\u001b[0m\u001b[0;34m\u001b[0m\u001b[0m\n\u001b[1;32m    272\u001b[0m                 \u001b[0margs\u001b[0m \u001b[0;34m=\u001b[0m \u001b[0margs\u001b[0m\u001b[0;34m[\u001b[0m\u001b[0;36m1\u001b[0m\u001b[0;34m:\u001b[0m\u001b[0;34m]\u001b[0m\u001b[0;34m\u001b[0m\u001b[0;34m\u001b[0m\u001b[0m\n\u001b[0;32m--> 273\u001b[0;31m             \u001b[0;32myield\u001b[0m \u001b[0;32mfrom\u001b[0m \u001b[0mself\u001b[0m\u001b[0;34m.\u001b[0m\u001b[0m_plot_args\u001b[0m\u001b[0;34m(\u001b[0m\u001b[0mthis\u001b[0m\u001b[0;34m,\u001b[0m \u001b[0mkwargs\u001b[0m\u001b[0;34m)\u001b[0m\u001b[0;34m\u001b[0m\u001b[0;34m\u001b[0m\u001b[0m\n\u001b[0m\u001b[1;32m    274\u001b[0m \u001b[0;34m\u001b[0m\u001b[0m\n\u001b[1;32m    275\u001b[0m     \u001b[0;32mdef\u001b[0m \u001b[0mget_next_color\u001b[0m\u001b[0;34m(\u001b[0m\u001b[0mself\u001b[0m\u001b[0;34m)\u001b[0m\u001b[0;34m:\u001b[0m\u001b[0;34m\u001b[0m\u001b[0;34m\u001b[0m\u001b[0m\n",
      "\u001b[0;32m~/anaconda3/lib/python3.8/site-packages/matplotlib/axes/_base.py\u001b[0m in \u001b[0;36m_plot_args\u001b[0;34m(self, tup, kwargs)\u001b[0m\n\u001b[1;32m    397\u001b[0m \u001b[0;34m\u001b[0m\u001b[0m\n\u001b[1;32m    398\u001b[0m         \u001b[0;32mif\u001b[0m \u001b[0mx\u001b[0m\u001b[0;34m.\u001b[0m\u001b[0mshape\u001b[0m\u001b[0;34m[\u001b[0m\u001b[0;36m0\u001b[0m\u001b[0;34m]\u001b[0m \u001b[0;34m!=\u001b[0m \u001b[0my\u001b[0m\u001b[0;34m.\u001b[0m\u001b[0mshape\u001b[0m\u001b[0;34m[\u001b[0m\u001b[0;36m0\u001b[0m\u001b[0;34m]\u001b[0m\u001b[0;34m:\u001b[0m\u001b[0;34m\u001b[0m\u001b[0;34m\u001b[0m\u001b[0m\n\u001b[0;32m--> 399\u001b[0;31m             raise ValueError(f\"x and y must have same first dimension, but \"\n\u001b[0m\u001b[1;32m    400\u001b[0m                              f\"have shapes {x.shape} and {y.shape}\")\n\u001b[1;32m    401\u001b[0m         \u001b[0;32mif\u001b[0m \u001b[0mx\u001b[0m\u001b[0;34m.\u001b[0m\u001b[0mndim\u001b[0m \u001b[0;34m>\u001b[0m \u001b[0;36m2\u001b[0m \u001b[0;32mor\u001b[0m \u001b[0my\u001b[0m\u001b[0;34m.\u001b[0m\u001b[0mndim\u001b[0m \u001b[0;34m>\u001b[0m \u001b[0;36m2\u001b[0m\u001b[0;34m:\u001b[0m\u001b[0;34m\u001b[0m\u001b[0;34m\u001b[0m\u001b[0m\n",
      "\u001b[0;31mValueError\u001b[0m: x and y must have same first dimension, but have shapes (100,) and (1,)"
     ]
    },
    {
     "data": {
      "image/png": "[encoded data removed]",
      "text/plain": [
       "<Figure size 432x288 with 1 Axes>"
      ]
     },
     "metadata": {
      "needs_background": "light"
     },
     "output_type": "display_data"
    }
   ],
   "source": [
    "import matplotlib.pyplot as plt\n",
    "\n",
    "acc = history.history['acc']\n",
    "val_acc = history.history['val_acc']\n",
    "loss = history.history['loss']\n",
    "val_loss = history.history['val_loss']\n",
    "\n",
    "epochs = range(1, len(acc) + 1)\n",
    "\n",
    "plt.plot(epochs, acc, 'bo', label='Training acc')\n",
    "plt.plot(epochs, val_acc, 'b', label= 'Validation acc')\n",
    "plt.title('Training and validation accuracy')\n",
    "plt.legend()\n",
    "\n",
    "plt.figure()\n",
    "\n",
    "plt.plot(epochs, loss, 'bo', label='Training loss')\n",
    "plt.plot(epochs, val_loss, 'b', label= 'Validation loss')\n",
    "plt.title('Training and validation loss')\n",
    "plt.legend()\n",
    "\n",
    "plt.show()\n"
   ]
  },
  {
   "cell_type": "code",
   "execution_count": null,
   "metadata": {},
   "outputs": [],
   "source": [
    "# Thanks to data augmentation; u aint overfitting; the training curves are closely tracking the validation curves.\n",
    "# u can now reach an accuracy of 80%, a 15% relative improvement over the non-regularized model.\n",
    "# By using regularization techniques further and by tuning the network's params (such as no. of filters per \n",
    "# conv layer or the no. of layers in the network), even hiher accuracy upto 86-87%. Next step use pretrained model."
   ]
  },
  {
   "cell_type": "code",
   "execution_count": null,
   "metadata": {},
   "outputs": [],
   "source": [
    "# Usen a pretrained convnet"
   ]
  },
  {
   "cell_type": "code",
   "execution_count": null,
   "metadata": {},
   "outputs": [],
   "source": [
    "# a pretrained network is a saved network that was previously trained on a large dataset, typically on a large scale\n",
    "# image-classification task. If this original sataset is large enuf and general enuf, then the spatiol hierarchy of \n",
    "# features learned by the pretrained network can act as a generic model of the visual world, and hence its features\n",
    "# can prove useful for many diff computer vision probs. even these new probs can involve completely diff classes\n",
    "# than those of the original task. i.e. u mite train a network on ImageNet(wer classes r mainly animals and \n",
    "# everyday objects) and then repurpose this trained network for sth as remote as identifying furniture items\n",
    "# in images. This dl feature makes it very potent as compared 2 other shallow learning approaches.\n",
    "\n",
    "# Let's consider a large convnet trained on the ImageNet dataset(1.4 million labeled imahe and 1000 diff classes)\n",
    "# ImageNet contains many animal classes including diff species of cats and dogs, and u can thus expect 2 perform\n",
    "# well on the dog-versus-cats classification problem.\n",
    "\n",
    "# VGG16 architecture - a simple and widely used convnet architecture for ImageNEt. Though older n somewhat heavier \n",
    "# than many other recent models, its similar to what we have already used. other cutesy model names \n",
    "# - VGG, ResNet, Inception, Inception-ResNet, Xception.\n",
    "\n",
    "# 2 ways 2 use a pretrained network: feature extraction & fine-tuning."
   ]
  },
  {
   "cell_type": "code",
   "execution_count": null,
   "metadata": {},
   "outputs": [],
   "source": [
    "# Feature Extraction"
   ]
  },
  {
   "cell_type": "code",
   "execution_count": null,
   "metadata": {},
   "outputs": [],
   "source": [
    "# uses the representations learned by previous network to extract interesting features from new samples. These\n",
    "# features are then run through a new classifier which is trained 4rm scratch.\n",
    "#convnets ised for img clsfctin comprise 2 parts. (1). series of pooling and convolution layers, & dey end vid a \n",
    "# densely konectd classifier. Da 1st part kald=convolutional base of the model. \n",
    "# the convolutional base of a previously trained network is taken, new data is run thru it and a new classifier \n",
    "# is run on top of the output. i.e. swapping classifiers wyl keeping da same convolutional base."
   ]
  },
  {
   "cell_type": "code",
   "execution_count": null,
   "metadata": {},
   "outputs": [],
   "source": [
    "# 5.16 Instantiating the VGG16 convolutional base"
   ]
  },
  {
   "cell_type": "code",
   "execution_count": 107,
   "metadata": {},
   "outputs": [],
   "source": [
    "from keras.applications import VGG16\n",
    "conv_base = VGG16(weights='imagenet', # specifies the weight checkpoint 4rm which to initialize da model.\n",
    "                 include_top=False,   # refers 2 including/not da densely konectd classifier on network top. \n",
    "                 input_shape=(150,150,3)) # image tensors.shape beng fed 2 da network(optional arg)default:any"
   ]
  },
  {
   "cell_type": "code",
   "execution_count": 108,
   "metadata": {},
   "outputs": [
    {
     "name": "stdout",
     "output_type": "stream",
     "text": [
      "Model: \"vgg16\"\n",
      "_________________________________________________________________\n",
      "Layer (type)                 Output Shape              Param #   \n",
      "=================================================================\n",
      "input_2 (InputLayer)         [(None, 150, 150, 3)]     0         \n",
      "_________________________________________________________________\n",
      "block1_conv1 (Conv2D)        (None, 150, 150, 64)      1792      \n",
      "_________________________________________________________________\n",
      "block1_conv2 (Conv2D)        (None, 150, 150, 64)      36928     \n",
      "_________________________________________________________________\n",
      "block1_pool (MaxPooling2D)   (None, 75, 75, 64)        0         \n",
      "_________________________________________________________________\n",
      "block2_conv1 (Conv2D)        (None, 75, 75, 128)       73856     \n",
      "_________________________________________________________________\n",
      "block2_conv2 (Conv2D)        (None, 75, 75, 128)       147584    \n",
      "_________________________________________________________________\n",
      "block2_pool (MaxPooling2D)   (None, 37, 37, 128)       0         \n",
      "_________________________________________________________________\n",
      "block3_conv1 (Conv2D)        (None, 37, 37, 256)       295168    \n",
      "_________________________________________________________________\n",
      "block3_conv2 (Conv2D)        (None, 37, 37, 256)       590080    \n",
      "_________________________________________________________________\n",
      "block3_conv3 (Conv2D)        (None, 37, 37, 256)       590080    \n",
      "_________________________________________________________________\n",
      "block3_pool (MaxPooling2D)   (None, 18, 18, 256)       0         \n",
      "_________________________________________________________________\n",
      "block4_conv1 (Conv2D)        (None, 18, 18, 512)       1180160   \n",
      "_________________________________________________________________\n",
      "block4_conv2 (Conv2D)        (None, 18, 18, 512)       2359808   \n",
      "_________________________________________________________________\n",
      "block4_conv3 (Conv2D)        (None, 18, 18, 512)       2359808   \n",
      "_________________________________________________________________\n",
      "block4_pool (MaxPooling2D)   (None, 9, 9, 512)         0         \n",
      "_________________________________________________________________\n",
      "block5_conv1 (Conv2D)        (None, 9, 9, 512)         2359808   \n",
      "_________________________________________________________________\n",
      "block5_conv2 (Conv2D)        (None, 9, 9, 512)         2359808   \n",
      "_________________________________________________________________\n",
      "block5_conv3 (Conv2D)        (None, 9, 9, 512)         2359808   \n",
      "_________________________________________________________________\n",
      "block5_pool (MaxPooling2D)   (None, 4, 4, 512)         0         \n",
      "=================================================================\n",
      "Total params: 14,714,688\n",
      "Trainable params: 14,714,688\n",
      "Non-trainable params: 0\n",
      "_________________________________________________________________\n"
     ]
    }
   ],
   "source": [
    "conv_base.summary()"
   ]
  },
  {
   "cell_type": "code",
   "execution_count": null,
   "metadata": {},
   "outputs": [],
   "source": [
    "# The final feature map is (4, 4, 512). On top of this feature, deeply connected classifier 2b stuck.\n",
    "\n",
    "# 2 ways 2 proceed.\n",
    "\n",
    "# Running the conv base on ur dataset, recording its output 2 a Numpy array on disk, and den usen dis data as input\n",
    "# 2 a standalone, densely konectd slassifier. fast & cheap option, since conv base being the most \n",
    "# expensive part of the pipeline is used just once 4 every input image, however, data augmentation cant occur.\n",
    "\n",
    "# Extending da conv_base by adding Dense layers on top and running da whole thing e2e on the input data. allows\n",
    "# data augmentation, coz every input image goes thru conv base every time it's seen by da model. this tech more expensive."
   ]
  },
  {
   "cell_type": "code",
   "execution_count": null,
   "metadata": {},
   "outputs": [],
   "source": [
    "# Fast Feature Extraction Without Data Augmentation"
   ]
  },
  {
   "cell_type": "code",
   "execution_count": null,
   "metadata": {},
   "outputs": [],
   "source": [
    "# start by running instances of the previously introduced ImageDataGenerator 2 extract images as Numpy arrays as \n",
    "# well as their labels. U'll extract features 4rm these images by calling the predict method of the conv_base model."
   ]
  },
  {
   "cell_type": "code",
   "execution_count": null,
   "metadata": {},
   "outputs": [],
   "source": [
    "# Extracting features using the pretrained convolutional base"
   ]
  },
  {
   "cell_type": "code",
   "execution_count": 109,
   "metadata": {},
   "outputs": [
    {
     "name": "stdout",
     "output_type": "stream",
     "text": [
      "Found 2000 images belonging to 2 classes.\n",
      "Found 1000 images belonging to 2 classes.\n",
      "Found 1000 images belonging to 2 classes.\n"
     ]
    }
   ],
   "source": [
    "import os\n",
    "import numpy as np\n",
    "from keras.preprocessing.image import ImageDataGenerator\n",
    "\n",
    "base_dir = '/home/remo/Documents/training_set/training_set/cats_and_dogs_small'\n",
    "train_dir = os.path.join(base_dir, 'train')\n",
    "validation_dir = os.path.join(base_dir, 'validation')\n",
    "test_dir = os.path.join(base_dir, 'test')\n",
    "\n",
    "datagen = ImageDataGenerator(rescale=1./255)\n",
    "batch_size = 20\n",
    "\n",
    "def extract_features(directory, sample_count):\n",
    "    features = np.zeros(shape=(sample_count, 4, 4, 512))\n",
    "    labels = np.zeros(shape=(sample_count))\n",
    "    generator = datagen.flow_from_directory(\n",
    "        directory,\n",
    "        target_size= (150, 150),\n",
    "        batch_size = batch_size,\n",
    "        class_mode= 'binary')\n",
    "    i = 0\n",
    "    for inputs_batch, labels_batch in generator:\n",
    "        features_batch = conv_base.predict(inputs_batch)\n",
    "        features[i * batch_size : (i + 1) * batch_size] = features_batch\n",
    "        labels[i * batch_size : (i + 1) * batch_size] = labels_batch\n",
    "        i += 1\n",
    "        if i * batch_size >= sample_count:\n",
    "            break\n",
    "        return features, labels\n",
    "train_features, train_labels = extract_features(train_dir, 2000)\n",
    "validation_features, validation_labels = extract_features(validation_dir, 1000)\n",
    "test_features, test_labels = extract_features(test_dir, 1000)\n",
    "    \n",
    "   "
   ]
  },
  {
   "cell_type": "code",
   "execution_count": 92,
   "metadata": {},
   "outputs": [],
   "source": [
    "# shape of extracted fetures(samples, 4, 4, 512) 2b fed 2 densely konectd classifier so flatten 2 (samples, 8192)"
   ]
  },
  {
   "cell_type": "code",
   "execution_count": 110,
   "metadata": {},
   "outputs": [],
   "source": [
    "\n",
    "    train_features = np.reshape(train_features, (2000, 4 * 4 * 512))\n",
    "    validation_features = np.reshape(validation_features, (1000, 4 * 4 * 512))\n",
    "    test_features = np.reshape(test_features, (1000, 4 * 4 * 512))\n",
    "    "
   ]
  },
  {
   "cell_type": "code",
   "execution_count": 111,
   "metadata": {},
   "outputs": [],
   "source": [
    "# defien ur densely konctd klasifyr (use dropout 4 regularization) & train it on da data & labels u jst recorded."
   ]
  },
  {
   "cell_type": "code",
   "execution_count": 112,
   "metadata": {},
   "outputs": [],
   "source": [
    "# Defining and training the densely connected classifier"
   ]
  },
  {
   "cell_type": "code",
   "execution_count": 113,
   "metadata": {},
   "outputs": [
    {
     "name": "stdout",
     "output_type": "stream",
     "text": [
      "Epoch 1/30\n",
      "100/100 [==============================] - 3s 29ms/step - loss: 0.6947 - acc: 0.9975 - val_loss: 0.6913 - val_acc: 0.9910\n",
      "Epoch 2/30\n",
      "100/100 [==============================] - 3s 29ms/step - loss: 0.6899 - acc: 0.9982 - val_loss: 0.6914 - val_acc: 0.9910\n",
      "Epoch 3/30\n",
      "100/100 [==============================] - 3s 29ms/step - loss: 0.6904 - acc: 0.9970 - val_loss: 0.6913 - val_acc: 0.9910\n",
      "Epoch 4/30\n",
      "100/100 [==============================] - 3s 28ms/step - loss: 0.6895 - acc: 0.9960 - val_loss: 0.6904 - val_acc: 0.9910\n",
      "Epoch 5/30\n",
      "100/100 [==============================] - 3s 28ms/step - loss: 0.6843 - acc: 0.9967 - val_loss: 0.6879 - val_acc: 0.9910\n",
      "Epoch 6/30\n",
      "100/100 [==============================] - 3s 28ms/step - loss: 0.6800 - acc: 0.9980 - val_loss: 0.6850 - val_acc: 0.9910\n",
      "Epoch 7/30\n",
      "100/100 [==============================] - 3s 28ms/step - loss: 0.6753 - acc: 0.9974 - val_loss: 0.6820 - val_acc: 0.9910\n",
      "Epoch 8/30\n",
      "100/100 [==============================] - 3s 28ms/step - loss: 0.6726 - acc: 0.9972 - val_loss: 0.6786 - val_acc: 0.9910\n",
      "Epoch 9/30\n",
      "100/100 [==============================] - 3s 29ms/step - loss: 0.6658 - acc: 0.9988 - val_loss: 0.6731 - val_acc: 0.9910\n",
      "Epoch 10/30\n",
      "100/100 [==============================] - 3s 30ms/step - loss: 0.6611 - acc: 0.9979 - val_loss: 0.6665 - val_acc: 0.9910\n",
      "Epoch 11/30\n",
      "100/100 [==============================] - 3s 29ms/step - loss: 0.6557 - acc: 0.9991 - val_loss: 0.6616 - val_acc: 0.9910\n",
      "Epoch 12/30\n",
      "100/100 [==============================] - 3s 30ms/step - loss: 0.6504 - acc: 0.9988 - val_loss: 0.6569 - val_acc: 0.9910\n",
      "Epoch 13/30\n",
      "100/100 [==============================] - 3s 29ms/step - loss: 0.6448 - acc: 0.9981 - val_loss: 0.6515 - val_acc: 0.9910\n",
      "Epoch 14/30\n",
      "100/100 [==============================] - 3s 29ms/step - loss: 0.6382 - acc: 0.9994 - val_loss: 0.6450 - val_acc: 0.9910\n",
      "Epoch 15/30\n",
      "100/100 [==============================] - 3s 29ms/step - loss: 0.6329 - acc: 0.9995 - val_loss: 0.6388 - val_acc: 0.9910\n",
      "Epoch 16/30\n",
      "100/100 [==============================] - 3s 30ms/step - loss: 0.6237 - acc: 1.0000 - val_loss: 0.6309 - val_acc: 0.9910\n",
      "Epoch 17/30\n",
      "100/100 [==============================] - 3s 30ms/step - loss: 0.6194 - acc: 1.0000 - val_loss: 0.6263 - val_acc: 0.9910\n",
      "Epoch 18/30\n",
      "100/100 [==============================] - 3s 29ms/step - loss: 0.6129 - acc: 1.0000 - val_loss: 0.6194 - val_acc: 0.9920\n",
      "Epoch 19/30\n",
      "100/100 [==============================] - 3s 29ms/step - loss: 0.6066 - acc: 0.9999 - val_loss: 0.6115 - val_acc: 0.9920\n",
      "Epoch 20/30\n",
      "100/100 [==============================] - 3s 29ms/step - loss: 0.6017 - acc: 1.0000 - val_loss: 0.6039 - val_acc: 0.9920\n",
      "Epoch 21/30\n",
      "100/100 [==============================] - 3s 30ms/step - loss: 0.5941 - acc: 1.0000 - val_loss: 0.5961 - val_acc: 0.9920\n",
      "Epoch 22/30\n",
      "100/100 [==============================] - 3s 29ms/step - loss: 0.5865 - acc: 0.9997 - val_loss: 0.5921 - val_acc: 0.9920\n",
      "Epoch 23/30\n",
      "100/100 [==============================] - 3s 29ms/step - loss: 0.5783 - acc: 1.0000 - val_loss: 0.5823 - val_acc: 0.9920\n",
      "Epoch 24/30\n",
      "100/100 [==============================] - 3s 29ms/step - loss: 0.5690 - acc: 1.0000 - val_loss: 0.5756 - val_acc: 0.9920\n",
      "Epoch 25/30\n",
      "100/100 [==============================] - 3s 31ms/step - loss: 0.5628 - acc: 1.0000 - val_loss: 0.5664 - val_acc: 0.9920\n",
      "Epoch 26/30\n",
      "100/100 [==============================] - 3s 30ms/step - loss: 0.5566 - acc: 1.0000 - val_loss: 0.5594 - val_acc: 0.9920\n",
      "Epoch 27/30\n",
      "100/100 [==============================] - 3s 30ms/step - loss: 0.5484 - acc: 1.0000 - val_loss: 0.5511 - val_acc: 0.9930\n",
      "Epoch 28/30\n",
      "100/100 [==============================] - 3s 30ms/step - loss: 0.5385 - acc: 1.0000 - val_loss: 0.5441 - val_acc: 0.9920\n",
      "Epoch 29/30\n",
      "100/100 [==============================] - 3s 30ms/step - loss: 0.5308 - acc: 1.0000 - val_loss: 0.5369 - val_acc: 0.9920\n",
      "Epoch 30/30\n",
      "100/100 [==============================] - 3s 30ms/step - loss: 0.5242 - acc: 0.9999 - val_loss: 0.5295 - val_acc: 0.9920\n"
     ]
    }
   ],
   "source": [
    "from keras import models\n",
    "from keras import layers\n",
    "from keras import optimizers\n",
    "\n",
    "model = models.Sequential()\n",
    "model.add(layers.Dense(256, activation='relu', input_dim= 4 * 4 * 512))\n",
    "model.add(layers.Dropout(0.5))\n",
    "model.add(layers.Dense(1, activation='sigmoid'))\n",
    "\n",
    "model.compile(optimizer=optimizers.RMSprop(lr=2e-5),\n",
    "              loss='binary_crossentropy',\n",
    "              metrics=['acc'])\n",
    "\n",
    "history = model.fit(train_features, train_labels,\n",
    "                    epochs=30,\n",
    "                    batch_size=20,\n",
    "                    validation_data=(validation_features, validation_labels))\n",
    "# fast training as two dense layers. "
   ]
  },
  {
   "cell_type": "code",
   "execution_count": 114,
   "metadata": {},
   "outputs": [],
   "source": [
    "# 5.19. Plotting the results"
   ]
  },
  {
   "cell_type": "code",
   "execution_count": 115,
   "metadata": {},
   "outputs": [
    {
     "data": {
      "image/png": "[encoded data removed]",
      "text/plain": [
       "<Figure size 432x288 with 1 Axes>"
      ]
     },
     "metadata": {
      "needs_background": "light"
     },
     "output_type": "display_data"
    },
    {
     "data": {
      "image/png": "[encoded data removed]",
      "text/plain": [
       "<Figure size 432x288 with 1 Axes>"
      ]
     },
     "metadata": {
      "needs_background": "light"
     },
     "output_type": "display_data"
    }
   ],
   "source": [
    "import matplotlib.pyplot as plt\n",
    "\n",
    "acc = history.history['acc']\n",
    "val_acc = history.history['val_acc']\n",
    "loss = history.history['loss']\n",
    "val_loss = history.history['val_loss']\n",
    "\n",
    "epochs = range(1, len(acc) + 1)\n",
    "\n",
    "plt.plot(epochs, acc, 'bo', label='Training acc')\n",
    "plt.plot(epochs, val_acc, 'b', label= 'Validation acc')\n",
    "plt.title('Training and validation accuracy')\n",
    "plt.legend()\n",
    "\n",
    "plt.figure()\n",
    "\n",
    "plt.plot(epochs, loss, 'bo', label='Training loss')\n",
    "plt.plot(epochs, val_loss, 'b', label= 'Validation loss')\n",
    "plt.title('Training and validation loss')\n",
    "plt.legend()\n",
    "\n",
    "plt.show()"
   ]
  },
  {
   "cell_type": "code",
   "execution_count": 105,
   "metadata": {},
   "outputs": [],
   "source": [
    "# validation accuracy of 90% however overfitting 4rm start as no data augmentation used."
   ]
  },
  {
   "cell_type": "code",
   "execution_count": 106,
   "metadata": {},
   "outputs": [],
   "source": [
    "# Feature Extraction with Data Augmentation"
   ]
  },
  {
   "cell_type": "code",
   "execution_count": null,
   "metadata": {},
   "outputs": [],
   "source": [
    "# use data augmentation during training; extending the conv_base model and running it e2e on the inputs. v expensive."
   ]
  },
  {
   "cell_type": "code",
   "execution_count": null,
   "metadata": {},
   "outputs": [],
   "source": [
    "# Adding a deeply connected classifier on top of the convolutional base."
   ]
  },
  {
   "cell_type": "code",
   "execution_count": 117,
   "metadata": {},
   "outputs": [],
   "source": [
    "from keras import models\n",
    "from keras import layers\n",
    "\n",
    "model=models.Sequential()\n",
    "model.add(conv_base)\n",
    "model.add(layers.Flatten())\n",
    "model.add(layers.Dense(256, activation='relu'))\n",
    "model.add(layers.Dense(1, activation='sigmoid'))"
   ]
  },
  {
   "cell_type": "code",
   "execution_count": 118,
   "metadata": {},
   "outputs": [
    {
     "name": "stdout",
     "output_type": "stream",
     "text": [
      "Model: \"sequential_8\"\n",
      "_________________________________________________________________\n",
      "Layer (type)                 Output Shape              Param #   \n",
      "=================================================================\n",
      "vgg16 (Functional)           (None, 4, 4, 512)         14714688  \n",
      "_________________________________________________________________\n",
      "flatten_4 (Flatten)          (None, 8192)              0         \n",
      "_________________________________________________________________\n",
      "dense_16 (Dense)             (None, 256)               2097408   \n",
      "_________________________________________________________________\n",
      "dense_17 (Dense)             (None, 1)                 257       \n",
      "=================================================================\n",
      "Total params: 16,812,353\n",
      "Trainable params: 16,812,353\n",
      "Non-trainable params: 0\n",
      "_________________________________________________________________\n"
     ]
    }
   ],
   "source": [
    "model.summary()"
   ]
  },
  {
   "cell_type": "code",
   "execution_count": null,
   "metadata": {},
   "outputs": [],
   "source": [
    "# B4 compile & train, freeze the conv base. Freezing a layer or set of layers means preventing their weights 4rm\n",
    "# being updated during training. If u dont do this, then the reps previously learnt by the conv base shall be \n",
    "# modified during training. coz the Dense layers on top are randomly initialized, very large weight updates wud be \n",
    "# propagated through out the network, effectively destroying da reps previously learnt.\n",
    "\n",
    "# In keras a network is frozen by setting its trainable att 2 False."
   ]
  },
  {
   "cell_type": "code",
   "execution_count": 119,
   "metadata": {},
   "outputs": [
    {
     "name": "stdout",
     "output_type": "stream",
     "text": [
      " this is the no. of trainable weights  b4 freezing the conv base: 30\n"
     ]
    }
   ],
   "source": [
    "print(' this is the no. of trainable weights '\n",
    "     ' b4 freezing the conv base:', len(model.trainable_weights))"
   ]
  },
  {
   "cell_type": "code",
   "execution_count": 120,
   "metadata": {},
   "outputs": [],
   "source": [
    "conv_base.trainable= False"
   ]
  },
  {
   "cell_type": "code",
   "execution_count": 121,
   "metadata": {},
   "outputs": [
    {
     "name": "stdout",
     "output_type": "stream",
     "text": [
      " this is the no. of trainable weights  after freezing the conv base: 4\n"
     ]
    }
   ],
   "source": [
    "print(' this is the no. of trainable weights '\n",
    "     ' after freezing the conv base:', len(model.trainable_weights))"
   ]
  },
  {
   "cell_type": "code",
   "execution_count": null,
   "metadata": {},
   "outputs": [],
   "source": [
    "# With this setup only the weights 4rm the two Dense layers that u added will be trained. That's a total of 4 weight\n",
    "# tensors: 2 / layer (the main weight matrix and the bias vector). in order 4 changes 2 take place, 1st compile da\n",
    "# model. If u ever modify weight trainability after compilation, u shud then recompile the model or these changes\n",
    "# will be ignored. "
   ]
  },
  {
   "cell_type": "code",
   "execution_count": null,
   "metadata": {},
   "outputs": [],
   "source": [
    "# 5.21. Training the mode e2e with a frozen convolutional base."
   ]
  },
  {
   "cell_type": "code",
   "execution_count": 122,
   "metadata": {},
   "outputs": [
    {
     "name": "stdout",
     "output_type": "stream",
     "text": [
      "Found 2000 images belonging to 2 classes.\n",
      "Found 1000 images belonging to 2 classes.\n",
      "Epoch 1/100\n",
      "50/50 [==============================] - ETA: 0s - loss: 0.6756 - acc: 0.5811WARNING:tensorflow:Your input ran out of data; interrupting training. Make sure that your dataset or generator can generate at least `steps_per_epoch * epochs` batches (in this case, 50 batches). You may need to use the repeat() function when building your dataset.\n",
      "50/50 [==============================] - 223s 4s/step - loss: 0.6748 - acc: 0.5824 - val_loss: 0.5253 - val_acc: 0.7950\n",
      "Epoch 2/100\n",
      "50/50 [==============================] - 116s 2s/step - loss: 0.5323 - acc: 0.8031\n",
      "Epoch 3/100\n",
      "50/50 [==============================] - 115s 2s/step - loss: 0.5095 - acc: 0.7834\n",
      "Epoch 4/100\n",
      "50/50 [==============================] - 114s 2s/step - loss: 0.4528 - acc: 0.8177\n",
      "Epoch 5/100\n",
      "50/50 [==============================] - 114s 2s/step - loss: 0.4667 - acc: 0.7809\n",
      "Epoch 6/100\n",
      "50/50 [==============================] - 114s 2s/step - loss: 0.3984 - acc: 0.8326\n",
      "Epoch 7/100\n",
      "50/50 [==============================] - 113s 2s/step - loss: 0.4107 - acc: 0.8238\n",
      "Epoch 8/100\n",
      "50/50 [==============================] - 114s 2s/step - loss: 0.3837 - acc: 0.8416\n",
      "Epoch 9/100\n",
      "50/50 [==============================] - 114s 2s/step - loss: 0.3930 - acc: 0.8246\n",
      "Epoch 10/100\n",
      "50/50 [==============================] - 114s 2s/step - loss: 0.4014 - acc: 0.8152\n",
      "Epoch 11/100\n",
      "50/50 [==============================] - 114s 2s/step - loss: 0.3941 - acc: 0.8175\n",
      "Epoch 12/100\n",
      "50/50 [==============================] - 115s 2s/step - loss: 0.3595 - acc: 0.8455\n",
      "Epoch 13/100\n",
      "50/50 [==============================] - 116s 2s/step - loss: 0.3658 - acc: 0.8378\n",
      "Epoch 14/100\n",
      "50/50 [==============================] - 115s 2s/step - loss: 0.3665 - acc: 0.8300\n",
      "Epoch 15/100\n",
      "50/50 [==============================] - 115s 2s/step - loss: 0.3494 - acc: 0.8367\n",
      "Epoch 16/100\n",
      "50/50 [==============================] - 114s 2s/step - loss: 0.3702 - acc: 0.8340\n",
      "Epoch 17/100\n",
      "50/50 [==============================] - 115s 2s/step - loss: 0.3576 - acc: 0.8514\n",
      "Epoch 18/100\n",
      "50/50 [==============================] - 115s 2s/step - loss: 0.3159 - acc: 0.8822\n",
      "Epoch 19/100\n",
      "50/50 [==============================] - 114s 2s/step - loss: 0.3690 - acc: 0.8422\n",
      "Epoch 20/100\n",
      "50/50 [==============================] - 114s 2s/step - loss: 0.3288 - acc: 0.8427\n",
      "Epoch 21/100\n",
      "50/50 [==============================] - 114s 2s/step - loss: 0.3280 - acc: 0.8600\n",
      "Epoch 22/100\n",
      "50/50 [==============================] - 115s 2s/step - loss: 0.3362 - acc: 0.8731\n",
      "Epoch 23/100\n",
      "50/50 [==============================] - 115s 2s/step - loss: 0.3353 - acc: 0.8503\n",
      "Epoch 24/100\n",
      "50/50 [==============================] - 118s 2s/step - loss: 0.3131 - acc: 0.8855\n",
      "Epoch 25/100\n",
      "50/50 [==============================] - 115s 2s/step - loss: 0.3301 - acc: 0.8516\n",
      "Epoch 26/100\n",
      "50/50 [==============================] - 114s 2s/step - loss: 0.3228 - acc: 0.8622\n",
      "Epoch 27/100\n",
      "50/50 [==============================] - 115s 2s/step - loss: 0.2923 - acc: 0.8643\n",
      "Epoch 28/100\n",
      "50/50 [==============================] - 114s 2s/step - loss: 0.3227 - acc: 0.8462\n",
      "Epoch 29/100\n",
      "50/50 [==============================] - 113s 2s/step - loss: 0.3290 - acc: 0.8478\n",
      "Epoch 30/100\n",
      "50/50 [==============================] - 120s 2s/step - loss: 0.2889 - acc: 0.8850\n",
      "Epoch 31/100\n",
      "50/50 [==============================] - 115s 2s/step - loss: 0.3099 - acc: 0.8808\n",
      "Epoch 32/100\n",
      "50/50 [==============================] - 114s 2s/step - loss: 0.2949 - acc: 0.8796\n",
      "Epoch 33/100\n",
      "50/50 [==============================] - 115s 2s/step - loss: 0.3111 - acc: 0.8691\n",
      "Epoch 34/100\n",
      "50/50 [==============================] - 115s 2s/step - loss: 0.3234 - acc: 0.8654\n",
      "Epoch 35/100\n",
      "50/50 [==============================] - 114s 2s/step - loss: 0.3285 - acc: 0.8625\n",
      "Epoch 36/100\n",
      "50/50 [==============================] - 114s 2s/step - loss: 0.2556 - acc: 0.8995\n",
      "Epoch 37/100\n",
      "50/50 [==============================] - 114s 2s/step - loss: 0.3255 - acc: 0.8467\n",
      "Epoch 38/100\n",
      "50/50 [==============================] - 113s 2s/step - loss: 0.3008 - acc: 0.8803\n",
      "Epoch 39/100\n",
      "50/50 [==============================] - 114s 2s/step - loss: 0.2825 - acc: 0.8786\n",
      "Epoch 40/100\n",
      "50/50 [==============================] - 114s 2s/step - loss: 0.2847 - acc: 0.8772\n",
      "Epoch 41/100\n",
      "50/50 [==============================] - 113s 2s/step - loss: 0.2958 - acc: 0.8537\n",
      "Epoch 42/100\n",
      "50/50 [==============================] - 114s 2s/step - loss: 0.2861 - acc: 0.8836\n",
      "Epoch 43/100\n",
      "50/50 [==============================] - 114s 2s/step - loss: 0.3256 - acc: 0.8539\n",
      "Epoch 44/100\n",
      "50/50 [==============================] - 115s 2s/step - loss: 0.2888 - acc: 0.8779\n",
      "Epoch 45/100\n",
      "50/50 [==============================] - 114s 2s/step - loss: 0.2464 - acc: 0.8974\n",
      "Epoch 46/100\n",
      "50/50 [==============================] - 115s 2s/step - loss: 0.3097 - acc: 0.8593\n",
      "Epoch 47/100\n",
      "50/50 [==============================] - 116s 2s/step - loss: 0.3453 - acc: 0.8482\n",
      "Epoch 48/100\n",
      "50/50 [==============================] - 117s 2s/step - loss: 0.3150 - acc: 0.8494\n",
      "Epoch 49/100\n",
      "50/50 [==============================] - 115s 2s/step - loss: 0.2672 - acc: 0.8809\n",
      "Epoch 50/100\n",
      "50/50 [==============================] - 113s 2s/step - loss: 0.2846 - acc: 0.8708\n",
      "Epoch 51/100\n",
      "50/50 [==============================] - 114s 2s/step - loss: 0.2914 - acc: 0.8766\n",
      "Epoch 52/100\n",
      "50/50 [==============================] - 115s 2s/step - loss: 0.2703 - acc: 0.8812\n",
      "Epoch 53/100\n",
      "50/50 [==============================] - 115s 2s/step - loss: 0.3314 - acc: 0.8511\n",
      "Epoch 54/100\n",
      "50/50 [==============================] - 117s 2s/step - loss: 0.2745 - acc: 0.8989\n",
      "Epoch 55/100\n",
      "50/50 [==============================] - 119s 2s/step - loss: 0.2915 - acc: 0.8857\n",
      "Epoch 56/100\n",
      "50/50 [==============================] - 122s 2s/step - loss: 0.3033 - acc: 0.8770\n",
      "Epoch 57/100\n",
      "50/50 [==============================] - 125s 3s/step - loss: 0.2937 - acc: 0.8845\n",
      "Epoch 58/100\n",
      "50/50 [==============================] - 116s 2s/step - loss: 0.2813 - acc: 0.8757\n",
      "Epoch 59/100\n",
      "50/50 [==============================] - 115s 2s/step - loss: 0.2847 - acc: 0.8814\n",
      "Epoch 60/100\n",
      "50/50 [==============================] - 118s 2s/step - loss: 0.2313 - acc: 0.9150\n",
      "Epoch 61/100\n",
      "50/50 [==============================] - 117s 2s/step - loss: 0.2810 - acc: 0.8849\n",
      "Epoch 62/100\n",
      "50/50 [==============================] - 115s 2s/step - loss: 0.2880 - acc: 0.8805\n",
      "Epoch 63/100\n",
      "50/50 [==============================] - 118s 2s/step - loss: 0.2703 - acc: 0.8883\n",
      "Epoch 64/100\n",
      "50/50 [==============================] - 114s 2s/step - loss: 0.2905 - acc: 0.8602\n",
      "Epoch 65/100\n",
      "50/50 [==============================] - 114s 2s/step - loss: 0.2966 - acc: 0.8727\n",
      "Epoch 66/100\n",
      "50/50 [==============================] - 114s 2s/step - loss: 0.2581 - acc: 0.8912\n",
      "Epoch 67/100\n",
      "50/50 [==============================] - 114s 2s/step - loss: 0.2520 - acc: 0.8970\n",
      "Epoch 68/100\n",
      "50/50 [==============================] - 114s 2s/step - loss: 0.2769 - acc: 0.8842\n",
      "Epoch 69/100\n",
      "50/50 [==============================] - 113s 2s/step - loss: 0.2787 - acc: 0.8695\n",
      "Epoch 70/100\n",
      "50/50 [==============================] - 112s 2s/step - loss: 0.2593 - acc: 0.8868\n",
      "Epoch 71/100\n",
      "50/50 [==============================] - 113s 2s/step - loss: 0.2758 - acc: 0.8747\n",
      "Epoch 72/100\n",
      "50/50 [==============================] - 114s 2s/step - loss: 0.3109 - acc: 0.8539\n",
      "Epoch 73/100\n",
      "50/50 [==============================] - 113s 2s/step - loss: 0.2702 - acc: 0.8747\n",
      "Epoch 74/100\n",
      "50/50 [==============================] - 114s 2s/step - loss: 0.2873 - acc: 0.8793\n",
      "Epoch 75/100\n",
      "50/50 [==============================] - 113s 2s/step - loss: 0.2574 - acc: 0.8853\n",
      "Epoch 76/100\n",
      "50/50 [==============================] - 113s 2s/step - loss: 0.2560 - acc: 0.8892\n",
      "Epoch 77/100\n",
      "50/50 [==============================] - 114s 2s/step - loss: 0.2822 - acc: 0.8812\n",
      "Epoch 78/100\n",
      "50/50 [==============================] - 117s 2s/step - loss: 0.2495 - acc: 0.8874\n",
      "Epoch 79/100\n",
      "50/50 [==============================] - 112s 2s/step - loss: 0.2742 - acc: 0.8759\n",
      "Epoch 80/100\n",
      "50/50 [==============================] - 112s 2s/step - loss: 0.2826 - acc: 0.8790\n",
      "Epoch 81/100\n"
     ]
    },
    {
     "name": "stdout",
     "output_type": "stream",
     "text": [
      "50/50 [==============================] - 112s 2s/step - loss: 0.2419 - acc: 0.8921\n",
      "Epoch 82/100\n",
      "50/50 [==============================] - 112s 2s/step - loss: 0.2905 - acc: 0.8607\n",
      "Epoch 83/100\n",
      "50/50 [==============================] - 113s 2s/step - loss: 0.2759 - acc: 0.8732\n",
      "Epoch 84/100\n",
      "50/50 [==============================] - 115s 2s/step - loss: 0.2495 - acc: 0.9016\n",
      "Epoch 85/100\n",
      "50/50 [==============================] - 115s 2s/step - loss: 0.2699 - acc: 0.8845\n",
      "Epoch 86/100\n",
      "50/50 [==============================] - 116s 2s/step - loss: 0.2282 - acc: 0.9112\n",
      "Epoch 87/100\n",
      "50/50 [==============================] - 115s 2s/step - loss: 0.2742 - acc: 0.8638\n",
      "Epoch 88/100\n",
      "50/50 [==============================] - 115s 2s/step - loss: 0.2199 - acc: 0.9168\n",
      "Epoch 89/100\n",
      "50/50 [==============================] - 116s 2s/step - loss: 0.2600 - acc: 0.9035\n",
      "Epoch 90/100\n",
      "50/50 [==============================] - 113s 2s/step - loss: 0.2430 - acc: 0.8862\n",
      "Epoch 91/100\n",
      "50/50 [==============================] - 113s 2s/step - loss: 0.2780 - acc: 0.8809\n",
      "Epoch 92/100\n",
      "50/50 [==============================] - 114s 2s/step - loss: 0.2630 - acc: 0.8885\n",
      "Epoch 93/100\n",
      "50/50 [==============================] - 115s 2s/step - loss: 0.2673 - acc: 0.8735\n",
      "Epoch 94/100\n",
      "50/50 [==============================] - 114s 2s/step - loss: 0.2831 - acc: 0.8673\n",
      "Epoch 95/100\n",
      "50/50 [==============================] - 114s 2s/step - loss: 0.2564 - acc: 0.8989\n",
      "Epoch 96/100\n",
      "50/50 [==============================] - 113s 2s/step - loss: 0.2631 - acc: 0.8794\n",
      "Epoch 97/100\n",
      "50/50 [==============================] - 113s 2s/step - loss: 0.2707 - acc: 0.8967\n",
      "Epoch 98/100\n",
      "50/50 [==============================] - 114s 2s/step - loss: 0.2641 - acc: 0.8878\n",
      "Epoch 99/100\n",
      "50/50 [==============================] - 114s 2s/step - loss: 0.2478 - acc: 0.9008\n",
      "Epoch 100/100\n",
      "50/50 [==============================] - 114s 2s/step - loss: 0.2473 - acc: 0.9022\n"
     ]
    }
   ],
   "source": [
    "from keras.preprocessing.image import ImageDataGenerator\n",
    "from keras import optimizers\n",
    "\n",
    "train_datagen = ImageDataGenerator(\n",
    "    rescale=1./255,\n",
    "    rotation_range=40,\n",
    "    width_shift_range=0.2,\n",
    "    height_shift_range=0.2,\n",
    "    shear_range=0.2,\n",
    "    zoom_range=0.2,\n",
    "    horizontal_flip=True,\n",
    "    fill_mode='nearest')\n",
    "\n",
    "test_datagen = ImageDataGenerator(rescale=1./255)   # Note dat the validation data shudnt be augmented\n",
    "\n",
    "train_generator = train_datagen.flow_from_directory(\n",
    "        train_dir,                      # target dir\n",
    "        target_size=(150, 150),         # resizes all images to 150 x 150 \n",
    "        batch_size=20,\n",
    "        class_mode='binary')            # binary labels needed as binary_crossentropy being used\n",
    "\n",
    "validation_generator = test_datagen.flow_from_directory(\n",
    "        validation_dir,\n",
    "        target_size=(150,150),\n",
    "        batch_size=32,\n",
    "        class_mode='binary')\n",
    "\n",
    "model.compile(loss='binary_crossentropy',\n",
    "              optimizer=optimizers.RMSprop(lr=2e-5),\n",
    "              metrics=['acc'])\n",
    "\n",
    "history = model.fit_generator(\n",
    "        train_generator,\n",
    "        steps_per_epoch=50,\n",
    "        epochs=100,\n",
    "        validation_data=validation_generator,\n",
    "        validation_steps=50)"
   ]
  },
  {
   "cell_type": "code",
   "execution_count": null,
   "metadata": {},
   "outputs": [],
   "source": [
    "import matplotlib.pyplot as plt\n",
    "\n",
    "acc = history.history['acc']\n",
    "val_acc = history.history['val_acc']\n",
    "loss = history.history['loss']\n",
    "val_loss = history.history['val_loss']\n",
    "\n",
    "epochs = range(1, len(acc) + 1)\n",
    "\n",
    "plt.plot(epochs, acc, 'bo', label='Training acc')\n",
    "plt.plot(epochs, val_acc, 'b', label= 'Validation acc')\n",
    "plt.title('Training and validation accuracy')\n",
    "plt.legend()\n",
    "\n",
    "plt.figure()\n",
    "\n",
    "plt.plot(epochs, loss, 'bo', label='Training loss')\n",
    "plt.plot(epochs, val_loss, 'b', label= 'Validation loss')\n",
    "plt.title('Training and validation loss')\n",
    "plt.legend()\n",
    "\n",
    "plt.show()"
   ]
  },
  {
   "cell_type": "code",
   "execution_count": null,
   "metadata": {},
   "outputs": [],
   "source": [
    "# 5.3.2 FineTuning"
   ]
  },
  {
   "cell_type": "code",
   "execution_count": null,
   "metadata": {},
   "outputs": [],
   "source": [
    "#Another widely used technique 4 model reuse, complementary 2 feature extraction, is fine-tuning. Fine tuning\n",
    "# consists of unfreezing a few of the top layers of a frozen model base used 4 feature extraction, and jointly\n",
    "# training both the newly added part of the model (in this case, the fully connected classifier) and these top layers.\n",
    "# This is called fine tuning coz it slightly adjusts the more abstract reps of the model being reused, in order 2 \n",
    "# make dem more relevant 4 da problem at hand."
   ]
  },
  {
   "cell_type": "code",
   "execution_count": null,
   "metadata": {},
   "outputs": [],
   "source": [
    "# It's necessary 2 freeze the convolution base of VGG16 in order 2b able 2 train a randomly initialized classifier\n",
    "# on top. therefore, only possible 2 fine-tube the top layers of the conv base once the classifier on top has\n",
    "# already been trained. If the classifier isnt alreaddy trained, then the error signal propagating thru the network\n",
    "# during training will be 2 lrg and the reps prev lernt by the layers being finetuned will be destroyed: Thus \n",
    "# steps for finetuning are as follow:\n",
    "\n",
    "#.1.Add ur custom network on top of an already trained base network.\n",
    "#.2. Freeze the base network.\n",
    "#.3. Train the part u added.\n",
    "#.4. Unfreeze some layers in the base network.\n",
    "#.5. Jointly train both these layers and the part u added.\n",
    "\n",
    "# first three steps alredy done. step 4 now. unfreeze ur conv_base and then freeze individual layers inside it."
   ]
  },
  {
   "cell_type": "code",
   "execution_count": null,
   "metadata": {},
   "outputs": [],
   "source": [
    "conv_base.summary()"
   ]
  },
  {
   "cell_type": "code",
   "execution_count": null,
   "metadata": {},
   "outputs": [],
   "source": [
    "# all layers upto block4_pool shud be frozen and block5 layers shud b trainable."
   ]
  },
  {
   "cell_type": "code",
   "execution_count": null,
   "metadata": {},
   "outputs": [],
   "source": [
    "# 5.22 Freezing all layers upto a specific one."
   ]
  },
  {
   "cell_type": "code",
   "execution_count": null,
   "metadata": {},
   "outputs": [],
   "source": [
    "conv_base.trainable = True\n",
    "\n",
    "set_trainable = False\n",
    "for layer in conv_base.layers:\n",
    "    if layer.name == 'block5_conv1':\n",
    "        set_trainable = True\n",
    "    if set_trainable:\n",
    "        layer.trainable = True\n",
    "    else: \n",
    "        layer.trainable = False"
   ]
  },
  {
   "cell_type": "code",
   "execution_count": null,
   "metadata": {},
   "outputs": [],
   "source": [
    "# 5.23 Fine-tuning the model"
   ]
  },
  {
   "cell_type": "code",
   "execution_count": null,
   "metadata": {},
   "outputs": [],
   "source": [
    "model.compile(loss='binary_crossentropy',\n",
    "              optimizer=optimizers.RMSprop(lr=1e-5),\n",
    "              metrics=['acc'])\n",
    "\n",
    "history = model.fit_generator(\n",
    "     train_generator,\n",
    "     steps_per_epoch=100,\n",
    "     epochs=100,\n",
    "     validation_data=validation_generator,\n",
    "     validation_steps=50)"
   ]
  },
  {
   "cell_type": "code",
   "execution_count": null,
   "metadata": {},
   "outputs": [],
   "source": [
    "# 5.24. Smoothing the plots"
   ]
  },
  {
   "cell_type": "code",
   "execution_count": null,
   "metadata": {},
   "outputs": [],
   "source": [
    "def smooth_curve(points, factor=0.8):\n",
    "    smoothed_points = []\n",
    "    for point in points: \n",
    "        if smoothed_points:\n",
    "            previous = smoothed_points[-1]\n",
    "            smoothed_points.append(previous * factor + point * (1 - factor))\n",
    "            else:\n",
    "                smoothed_points.append(point)\n",
    "          return smoothed_points\n",
    "    \n",
    "plt.plot(epochs,\n",
    "         smooth_curve(acc), 'bo', label='Smoothed training acc')\n",
    "plt.plot(epochs,\n",
    "         smooth_curve(val_acc), 'b', label='Smoothed validation acc')\n",
    "plt.title('Training and validation accuracy')\n",
    "plt.legend()\n",
    "\n",
    "plt.figure()\n",
    "\n",
    "plt.plot(epochs,\n",
    "         smooth_curve(loss), 'bo', label='Smoothed training loss')\n",
    "plt.plot(epochs,\n",
    "         smooth_curve(val_loss), 'b', label='Smoothed validation loss')\n",
    "plt.title('Training and validation loss')\n",
    "plt.legend()\n",
    "\n",
    "plt.show()"
   ]
  },
  {
   "cell_type": "code",
   "execution_count": null,
   "metadata": {},
   "outputs": [],
   "source": [
    "# val acc luk mch beta. nice 1% abs impr in acc 4rm abt 96% 2 97%. note loss curve doesnt show any improvement. \n",
    "# displaying pointwise loss values:: and what matters 4 accuracy is da distribution of loss values not their avg.\n",
    "# coz accuracy is the result of a binary thresholding of the class profitability predicted by da model. The model\n",
    "# may still be improving even if this isnt reflected in the avg loss.\n",
    "\n",
    "# Finally evaluate dis model on the test data:"
   ]
  },
  {
   "cell_type": "code",
   "execution_count": null,
   "metadata": {},
   "outputs": [],
   "source": [
    "test_generator = test_datagen.flow_from_directory(\n",
    "    test_dir,\n",
    "    target_size=(150, 150),\n",
    "    batch_size=20,\n",
    "    calss_mode='binary')\n",
    "\n",
    "test_loss, test_acc = model.evaluate_generator(test_generator, steps=50)\n",
    "print('test acc:', test_acc)"
   ]
  },
  {
   "cell_type": "code",
   "execution_count": null,
   "metadata": {},
   "outputs": [],
   "source": [
    "# test accuracy of 97%. using modern dl tech, got here with 10% of training data i.e. 2000 instead of 20000 sampls!"
   ]
  },
  {
   "cell_type": "code",
   "execution_count": null,
   "metadata": {},
   "outputs": [],
   "source": [
    "# 5.3.3. Wrapping Up"
   ]
  },
  {
   "cell_type": "code",
   "execution_count": null,
   "metadata": {},
   "outputs": [],
   "source": [
    "# Here's what u shud take away 4rm the excercises in the past 2 sections."
   ]
  },
  {
   "cell_type": "code",
   "execution_count": null,
   "metadata": {},
   "outputs": [],
   "source": [
    "# Covnets are best type of ml models for computer-vision tasks. It's possible 2 train 1 4rm scratch even on a vry\n",
    "# small dataset, vid decent results.\n",
    "\n",
    "# On a small dataset, overfitting vilbe da main issue. Data augmentation is a powerful way 2 fight overfitting\n",
    "# when u'r working vid image data.\n",
    "\n",
    "# It's easy 2 reuse an existing convnet on a new dataset via feature extraction. valuable technq 4 small image datasets.\n",
    "\n",
    "# complementing feature extraction, fine-tuning adapts 2 a new prob sum of the reps prev lernt by an existing\n",
    "# model. This pushes performance a bit further.\n",
    "\n",
    "# Now we 've a solid set of tools for dealing vid image-classification problems-in particular vid small datasets."
   ]
  },
  {
   "cell_type": "code",
   "execution_count": null,
   "metadata": {},
   "outputs": [],
   "source": [
    "# 5.4. VISUALIZING WHAT CONVNETS LEARN!"
   ]
  },
  {
   "cell_type": "code",
   "execution_count": null,
   "metadata": {},
   "outputs": [],
   "source": [
    "# DL models r black-boxes. learning reps dat r dificult 2 extract & present in a human-readable form. partially\n",
    "# true 4 certain types of dl models, it's nt true 4 convnets. the reps lernt by convnets r highly amenable 2 \n",
    "# visualization in lrg prt coz they r reps of visual concepts. 3 of the most accesible & useful out of a wide array\n",
    "# of techniques developed 4 visualizing & interpreting these reps."
   ]
  },
  {
   "cell_type": "code",
   "execution_count": null,
   "metadata": {},
   "outputs": [],
   "source": [
    "# Visualizing intermediate convnet outputs (intermediate activations)-Useful 4 understanding how successive \n",
    "# convnet layers transform their input, and 4 getting a 1st idea of the meaning of individual convnet filters.\n",
    "\n",
    "# Visualizing convnets filters - useful 4 understanding precisely wat visual pattern or concept each filter in a \n",
    "# convnet is receptive to.\n",
    "\n",
    "# Visualizing heatmaps of class activation in an image - Useful 4 understanding which parts of an image were identified\n",
    "# as belonging to a given class, thus allowing u 2 localize objects in images.\n",
    "\n",
    "\n",
    "# For the 1st method, u'll use da small convnet that u trained 4rm scratch on the dog vs. cat classification prob\n",
    "# in section 5.2. for the next 2 methods u'll use the VGG16 model in section 5.3"
   ]
  },
  {
   "cell_type": "code",
   "execution_count": null,
   "metadata": {},
   "outputs": [],
   "source": [
    "# 5.4.1 VISUALIZING INTERMEDIATE ACTIVATIONS"
   ]
  },
  {
   "cell_type": "code",
   "execution_count": 123,
   "metadata": {},
   "outputs": [],
   "source": [
    "# displaying da feature maps dat r output by various convolution & pooling layers in a network, given a certain\n",
    "# input (the output of a layer is often called its activation, the output of the activation function). renders\n",
    "# the way an input is decomposed into the different filters learned by da network. visualize feature maps vid 3 \n",
    "# dimensions (width, height and depth(channels)). \n",
    "\n",
    "# Each chnl encodes relatively independent features, so the proper way 2 visualize these feature maps is by \n",
    "# independently plotting the contents of every channel as a 2D image. Let's start by loading the model 4m 5.2."
   ]
  },
  {
   "cell_type": "code",
   "execution_count": 124,
   "metadata": {},
   "outputs": [],
   "source": [
    "from keras.models import load_model"
   ]
  },
  {
   "cell_type": "code",
   "execution_count": null,
   "metadata": {},
   "outputs": [],
   "source": [
    "model = load_model('cats_and_dogs_small_2.h5')\n",
    "model.summary()"
   ]
  },
  {
   "cell_type": "code",
   "execution_count": null,
   "metadata": {},
   "outputs": [],
   "source": [
    "# 5.25 Preprocessing a single image"
   ]
  },
  {
   "cell_type": "code",
   "execution_count": null,
   "metadata": {},
   "outputs": [],
   "source": [
    "img_path = '/home/remo/Documents/training_set/training_set/cats_and_dogs_small/test/cats/cat.1700.jpg'\n",
    "\n",
    "from keras.preprocessing import image\n",
    "import numpy as np\n",
    "\n",
    "img = image.load_img(img_path, target_size=(150, 150))\n",
    "img_tensor = image.img_to_array(img)\n",
    "img_tensor = np.expand_dims(img_tensor, axis=0)\n",
    "img_tensor /= 255\n",
    "\n",
    "<1> its shape is (1, 150, 150, 3)\n",
    "print(img_tensor.shape)"
   ]
  },
  {
   "cell_type": "code",
   "execution_count": null,
   "metadata": {},
   "outputs": [],
   "source": [
    "# 5.26 Displaying the test picture"
   ]
  },
  {
   "cell_type": "code",
   "execution_count": null,
   "metadata": {},
   "outputs": [],
   "source": [
    "import matplotlib.pyplot as plt\n",
    "\n",
    "plt.imshow(img_tensor[0])\n",
    "plt.show()"
   ]
  },
  {
   "cell_type": "code",
   "execution_count": null,
   "metadata": {},
   "outputs": [],
   "source": [
    "# 4 extracting desired feature maps, create a jeras model taking batches of images as input and output the \n",
    "# activations of all convolution and pooling layers. To do this, you'll use the Keras class Model. A model is \n",
    "# instantiated using 2 args: an input tensor (or list of input tensors) & 'n output tensor (or list of output tensors).\n",
    "# resulting class ===keras model jst lke familiar Sequential models ur familiar vid, mapping da specific inputs 2\n",
    "# da specified outputs. What sets the Model class apart is that it allows 4 models with multiple outputs, unlike\n",
    "# Sequential"
   ]
  },
  {
   "cell_type": "code",
   "execution_count": null,
   "metadata": {},
   "outputs": [],
   "source": [
    "# 5.27. Instantiating a model 4rm an input tensor and a list of output tensors."
   ]
  },
  {
   "cell_type": "code",
   "execution_count": null,
   "metadata": {},
   "outputs": [],
   "source": [
    "from keras import models\n",
    "\n",
    "layer_outputs = [layer.output for layer in model.layers[:8]]  # extracts da ouput of top 8 layers\n",
    "activation_model = models.Model(inputs=model.input, outputs=layer_outputs) # creates a model return des outputs given da model input\n",
    "\n",
    "# wen fed an image input, this model rtrns vals of the layer activations in the original model. This 1st time  multi\n",
    "# output model b4 one input one output. genreally, a model can have any no. of inputs/outputs. dis one has \n",
    "# 1 input & 8 outputs: one output per layer activation."
   ]
  },
  {
   "cell_type": "code",
   "execution_count": null,
   "metadata": {},
   "outputs": [],
   "source": [
    "# 5.28 Running the model in predict mode"
   ]
  },
  {
   "cell_type": "code",
   "execution_count": null,
   "metadata": {},
   "outputs": [],
   "source": [
    "activations = activation_model.predict(img_tensor) # rtrns a list of 5 Numpy arrays: 1 array/layer activation"
   ]
  },
  {
   "cell_type": "code",
   "execution_count": null,
   "metadata": {},
   "outputs": [],
   "source": [
    "# i.e. activate 1st conv layer for the cat iamge input\n",
    "\n",
    "fist_layer_activation = activations[0]\n",
    "print(first_layer_activation.shape)"
   ]
  },
  {
   "cell_type": "code",
   "execution_count": null,
   "metadata": {},
   "outputs": [],
   "source": [
    "# 5.29 Visualizing the fourth channel of the activation of the 1st layer on the test cat pic."
   ]
  },
  {
   "cell_type": "code",
   "execution_count": null,
   "metadata": {},
   "outputs": [],
   "source": [
    "import matplotlib.pyplot as plt\n",
    "plt.matshow(first_layer_activation[0, :, :, 4], cmap='viridis')"
   ]
  },
  {
   "cell_type": "code",
   "execution_count": null,
   "metadata": {},
   "outputs": [],
   "source": [
    "# 5.30 Visualizing the seventh channel of the activation of the 1st layer on the test cat pic."
   ]
  },
  {
   "cell_type": "code",
   "execution_count": null,
   "metadata": {},
   "outputs": [],
   "source": [
    "plt.matshow(first_layer_activation[0, :, :, 7], cmap='viridis')"
   ]
  },
  {
   "cell_type": "code",
   "execution_count": null,
   "metadata": {},
   "outputs": [],
   "source": [
    "# 5.31 Visualizing every channel in every intermediate activation"
   ]
  },
  {
   "cell_type": "code",
   "execution_count": null,
   "metadata": {},
   "outputs": [],
   "source": [
    "layer_names = []\n",
    "for layer in model.layers[:8]:                               # Names of the layers so u can \n",
    "    layer_names.append(layer.name)                           # have them as part of ur plot\n",
    "    \n",
    "images_per_row = 16                                   \n",
    "\n",
    "for layer_name, layer_activation in zip(layer_names, activations): # Displays the feature maps\n",
    "    n_features = layer_activation.shape[-1]                        # No. of features in the feature map\n",
    "    \n",
    "    size = layer_activation.shape[1]         # da feature map has shape (I, size, size, n, features).\n",
    "    \n",
    "    n_cols = n_features  // images_per_row         # tiles the activation channels in this matrix\n",
    "    display_grid = np.zeros((size * n_cols, image_per_row * size))\n",
    "    \n",
    "    for col in range(n_cols):           # tiles each filter into a big horizontal grid.\n",
    "        for row in range(images_per_row):\n",
    "            channel_image = layer_activation[0, :, :, col * images_per_row + row]\n",
    "            \n",
    "            channel_image -= channel_image.mean()    # post-processes the feature 2 make it visually palatable\n",
    "            channel_image /= channel_image.std()\n",
    "            channel_image *= 64\n",
    "            channel_image += 128\n",
    "            channel_image = np.clip(channel_image, 0, 255).astype('uint8')\n",
    "            display_grid[col * size : (col + 1) * size,            # Displays the grid\n",
    "                         row * size : (row + 1) * size] = channel_image\n",
    "            \n",
    "            scale = 1. / size\n",
    "            plt.figure(figsize=(scale * display_grid.shape[1],\n",
    "                               scale * display_grid.shape[0]))\n",
    "            \n",
    "            plt.title(layer_name)\n",
    "            plt.grid(False)\n",
    "            plt.imshow(display_grid, aspect='auto', cmap='viridius')\n",
    "            "
   ]
  },
  {
   "cell_type": "code",
   "execution_count": null,
   "metadata": {},
   "outputs": [],
   "source": [
    "# Make a few notes\n",
    "\n",
    "# da 1st layer acts as a collection of various edge detectors. At that stagem the activation retains almost all of the \n",
    "# info present in the initial picture.\n",
    "\n",
    "# As u go hiar, the activations become increasingly abstract and less visually interpretable. They begin 2 encode\n",
    "# higher-level concepts such as \"cat ear\" and \"cat eye\". Higher reps carry incresingly less info abt the visual \n",
    "# contents of da img & increasingly more info related to the class of the image.\n",
    "\n",
    "# The sparsity of the activations increases with the depth of the layer: in the first layer, all filters are activated \n",
    "# by the input image; but in the following layers, more and more filters are blank. This means the pattern encoded by\n",
    "# the filter isnt found in the input image.\n",
    "\n",
    "# imp universl chrctrstc of reps lernt by deep nns: the features extracted by a layer become increasingly abstract \n",
    "# with the depth of the layer. The activations of higher layer carry less and less info abt the specific input \n",
    "# being seen and more and more info abt the target(in this case: the class of the image: cat or dog). A deep nn\n",
    "# effectively acts as an information deadline pipeine, with raw data gng in (in this case, RGB pics) and being\n",
    "# repetdly trnsfrmd so dat irrelevant info is filtered out (e.g., the specific visual appearance of the image),\n",
    "# and useful info is magnified and refined(e.g. the class of image)\n",
    "\n",
    "# analogous with real life perception of the world; after observing a scene for a few seconds, a human can remember \n",
    "# which abstract objects were in it (bicycle, tree) but cnt remember the specific appearance of these objects. In \n",
    "# fact, it u trie 2 draw a generic bicycle 4rm memory, chances r u cudnt get it even remotely rite, even though u have seen \n",
    "# 1000s of bicycles in ur lifetime. ur brain has completely learnt 2 abstract its visual input - tp transform it\n",
    "# into high-level visual concepts while filtering out irrelevant visual details-making it \n",
    "# tremendously dificult 2 remember how things around u luk."
   ]
  },
  {
   "cell_type": "code",
   "execution_count": null,
   "metadata": {},
   "outputs": [],
   "source": [
    "# 5.4.2 Visualizing convnet filters"
   ]
  },
  {
   "cell_type": "code",
   "execution_count": null,
   "metadata": {},
   "outputs": [],
   "source": [
    "# another way to inspect da filters lrnt by convnets is 2 display the visual pattern dat each filter is meant 2\n",
    "# respond 2. this can be done with gradient ascent in input space: applying gradient descent to the value of the input\n",
    "# image of convnet so as to maximize the response of a specific filter, starting 4rm a blank input image. The \n",
    "# resulting input image will be one that the chosen filter is maximally responsive to.\n",
    "\n",
    "# da process is smpl: u'll build a loss fn maximizing da val of a gvn fltr in a gvn conv layer & use stochastic\n",
    "# gradient descent 2 adjust the values of the input image so as to maximize this activation value. i.e. as below"
   ]
  },
  {
   "cell_type": "code",
   "execution_count": null,
   "metadata": {},
   "outputs": [],
   "source": [
    "# 5.32 Defining the loss tensor for filter visualization."
   ]
  },
  {
   "cell_type": "code",
   "execution_count": null,
   "metadata": {},
   "outputs": [],
   "source": [
    "from keras.applications import VGG16\n",
    "from keras import backend as K\n",
    "\n",
    "model = VGG16(weights='imagenet',\n",
    "              include_top=False)\n",
    "\n",
    "layer_name = 'block3_conv1'\n",
    "filter_index = 0\n",
    "\n",
    "layer_output = model.get_layer(layer_name).output\n",
    "loss = K.mean(layer_output[:, :, :, filter_index])\n",
    "\n",
    "# 2 implement gradient descent, you'll need  the gradient of this loss w.r.t the model's input. To do this, u'll \n",
    "# use da gradients fn packaged with da backend module of Keras.\n"
   ]
  },
  {
   "cell_type": "code",
   "execution_count": null,
   "metadata": {},
   "outputs": [],
   "source": [
    "# 5.33 Obtaining the gradient of the loss w.r.t the input"
   ]
  },
  {
   "cell_type": "code",
   "execution_count": null,
   "metadata": {},
   "outputs": [],
   "source": [
    "grads = K.gradients(loss, model.input)[0] # da call 2 gradients rtrns a lst of tensors(of size 1 in dis case)\n",
    "                                          # hence u kip only da 1st elem which is a tensor.\n",
    "    \n",
    "# normalize da gradient tensor by dividing it by its L2 norm(the sq rt of the avg of the sq of da vals in tensor)\n",
    "# dis ensures dat da magnitude of the updates done to the input is always within the same range."
   ]
  },
  {
   "cell_type": "code",
   "execution_count": null,
   "metadata": {},
   "outputs": [],
   "source": [
    "# 5.34 Gradient-normalization trick"
   ]
  },
  {
   "cell_type": "code",
   "execution_count": null,
   "metadata": {},
   "outputs": [],
   "source": [
    "grads = (K.sqrt(K.mean(K.square(grads))) + 1e-5)    # Add 1e-5 b4 dividing 2 avoid accidently dividing by 0\n",
    "\n",
    "# compute da value of the loss tensor and the gradient tensor, given an input image. U can define a Keras backend fn\n",
    "# to do this: iterate is a fn dat takes a Numpy tensor (as a list of tensors of size I) and rtrns a list of 2\n",
    "# Numpy tensors: the loss value and the gradient value."
   ]
  },
  {
   "cell_type": "code",
   "execution_count": null,
   "metadata": {},
   "outputs": [],
   "source": [
    "# 5.35. Fetching Numpy output values given Numpy input values."
   ]
  },
  {
   "cell_type": "code",
   "execution_count": null,
   "metadata": {},
   "outputs": [],
   "source": [
    "iterate = K.function([model.input],[loss, grads])\n",
    "\n",
    "import numpy as np\n",
    "loss_value, grads_value = iterate([np.zeros((1, 150, 150, 3))])\n",
    "\n",
    "# define a Python loop 2 do stochastic gradient descent"
   ]
  },
  {
   "cell_type": "code",
   "execution_count": null,
   "metadata": {},
   "outputs": [],
   "source": [
    "# 5.36 Loss maximization via sotchastic gradient descent"
   ]
  },
  {
   "cell_type": "code",
   "execution_count": null,
   "metadata": {},
   "outputs": [],
   "source": [
    "input_img_data = np.random.random((1, 150, 150, 3)) * 20 + 128 # starts drom a gray image with some noise\n",
    "\n",
    "step = 1          # magnitude of each gradient update\n",
    "\n",
    "for i in range(40):    # runs gradient descent for 40 steps\n",
    "    loss_value, grads_value = iterate([input_img_data])  # computes the loss value and gradient value\n",
    "    \n",
    "    input_img_data += grads_value * step    # adjusts the input image in the direction that maximizes the loss\n",
    "    \n",
    "    \n",
    "    # resulting img tensor is a floating-pont tensor of shape (1, 150, 150, 3) with values dat maynt be integers\n",
    "    # within [0, 255]. so postprocess dis tensor 2 turn it into a displayable image. do so with following utility fn."
   ]
  },
  {
   "cell_type": "code",
   "execution_count": null,
   "metadata": {},
   "outputs": [],
   "source": [
    "# 5.37 Utility function to convert a tensor into a valid image"
   ]
  },
  {
   "cell_type": "code",
   "execution_count": null,
   "metadata": {},
   "outputs": [],
   "source": [
    "def deprocess_image(x):\n",
    "    x -= x.mean()                      # Normalizes the tensor: centers on 0 ensures that std is 0.1\n",
    "    x /= (x.std() + 1e-5)\n",
    "    x *= 0.1\n",
    "    \n",
    "    x += 0.5\n",
    "    x = np.clip(x, 0, 1)                # Clips to [0,1]\n",
    "    \n",
    "    x *= 255\n",
    "    x = np.clip(x, 0, 255).astype('uint8')         # Converts to an RGB array\n",
    "    return x\n",
    "\n",
    "# having all da pcs put dem in a py fn taking as input a layer name & a filter index rtrning a valid image\n",
    "# tensor representing the pattern that maximizes the activation of the specified filter."
   ]
  },
  {
   "cell_type": "code",
   "execution_count": null,
   "metadata": {},
   "outputs": [],
   "source": [
    "# 5.38 Function to generate filter visualizations"
   ]
  },
  {
   "cell_type": "code",
   "execution_count": null,
   "metadata": {},
   "outputs": [],
   "source": [
    "def generate_pattern(layer_name, filter_index, size=150):\n",
    "    layer_output = model.get_layer(layer_name).output     # builds a loss function that maximizes the activation\n",
    "    loss = K.mean(layer_output[:, :, :, filter_index])    # of the nth filter of the layer under consideration\n",
    "    \n",
    "    grads = K.gradients(loss, model.input)[0]   # Computes the gradient of the input picture w.r.t this loss\n",
    "    \n",
    "    grads /= (K.sqrt(K.mean(K.square(grads))) + 1e-5)  # Normalization trick: normalized the gradient\n",
    "    \n",
    "    iterate = K.function([model.input], [loss, grads])  # Returns the loss and grads given the input picture\n",
    "    \n",
    "    input_img_data = np.random.random((1, size, size, 3)) * 20 + 128  # Starts from a gray image with some noise\n",
    "    \n",
    "    step = 1\n",
    "    for i in range(40):\n",
    "        loss_value, grads_value = iterate([input_img_data])      # Runs gradient ascent for 40 steps\n",
    "        input_img_data += grads_value * step\n",
    "        \n",
    "    img = input_img_data[0]\n",
    "    return deprocess_image(img)    "
   ]
  },
  {
   "cell_type": "code",
   "execution_count": null,
   "metadata": {},
   "outputs": [],
   "source": [
    "# let's try/\n",
    "\n",
    "plt.imshow(generate_pattern('block3_conv1', 0))"
   ]
  },
  {
   "cell_type": "code",
   "execution_count": null,
   "metadata": {},
   "outputs": [],
   "source": [
    "# 5.39 Generating a grid of all filter response patterns in a layer"
   ]
  },
  {
   "cell_type": "code",
   "execution_count": null,
   "metadata": {},
   "outputs": [],
   "source": [
    "layer_name = 'block1_conv1'\n",
    "size = 64\n",
    "margin = 5\n",
    "\n",
    "results = np.zeros((8 * size + 7 * margin, 8 * size + 7 * margin, 3))  # Empty(black) image to store results\n",
    "\n",
    "for i in range(8):   # iterates over the rows of the results grid\n",
    "    for j in range(8):       # iterates over the columns of the results grid\n",
    "        filter_img = generate_pattern(layer_name, i + (j * 8), size=size) # Generates pattern 4 filter (i +(j*8)) in layer_name\n",
    "        \n",
    "        horizontal_start = i * size + i * margin        # Puts the results in the square (i, j) of the results grid\n",
    "        horizontal_end = horizontal_start + size\n",
    "        vertical_start = j * size + j * margin\n",
    "        vertical_end = vertical_start + size\n",
    "        results[horizontal_start: horizontal_end, \n",
    "                vertical_start: vertical_end, :] = filter_img\n",
    "        \n",
    "        plt.figure(figsize=(20, 20))    #Displays the results grid\n",
    "        plt.imshow(results)"
   ]
  },
  {
   "cell_type": "code",
   "execution_count": null,
   "metadata": {},
   "outputs": [],
   "source": [
    "# these filter visualizations tell a lot abt convnet layers world view; each layer in a convnet learns a collection\n",
    "# of filters such that their inputs can be expressed as a combination of the filters. This is similar to how the Fourier\n",
    "# transform decomposes signals onto a bank of cosine functions. The filters in these convnet filter banks get\n",
    "# increasingly complex and refined as you go higher in the model:\n",
    "\n",
    "# The filters from the first layer in the model (block1_conv1) encode simple directional edges and colors\n",
    "# (or colored edges, in some cases)\n",
    "\n",
    "# The filters from block2_conv1 encode simple textures madde from combination of edges and colors.\n",
    "\n",
    "# The filters in higher layers begin to resemble textures found in natural images: feathers, eyes, leaves and so on."
   ]
  },
  {
   "cell_type": "code",
   "execution_count": null,
   "metadata": {},
   "outputs": [],
   "source": [
    "# 5.4.3. Visualizing heatmaps of class activation"
   ]
  },
  {
   "cell_type": "code",
   "execution_count": null,
   "metadata": {},
   "outputs": [],
   "source": [
    "# A class activation heatmap is a 2D grid of scores associated with a specific output class, computed for every location \n",
    "# in any input image, indicating how important each location is with respect to the class under consideration. i.e.\n",
    "# given an image fed into a gogs-versus-cats convnet, CAM visualization allows you to generate a heatmap for the\n",
    "# class \"cat\" indicating how cat-like different parts of the image are, and also a heatmap 4 da class dog, indicating\n",
    "# how dog like part of the images are."
   ]
  },
  {
   "cell_type": "code",
   "execution_count": null,
   "metadata": {},
   "outputs": [],
   "source": [
    "# 5.40 Loading the VGG16 network with pretrained weights"
   ]
  },
  {
   "cell_type": "code",
   "execution_count": null,
   "metadata": {},
   "outputs": [],
   "source": [
    "from keras.applications.vgg16 import VGG16\n",
    "model = VGG16(weights='imagenet')        #Note that u include da densely connected classifier on top\n",
    "                                         #in all previous cases u discarded it\n",
    "    \n",
    "    "
   ]
  },
  {
   "cell_type": "code",
   "execution_count": null,
   "metadata": {},
   "outputs": [],
   "source": [
    "# Preprocessing an input image for VGG16"
   ]
  },
  {
   "cell_type": "code",
   "execution_count": null,
   "metadata": {},
   "outputs": [],
   "source": [
    "from keras.preprocessing import image\n",
    "from keras.application.vgg16 import preprocess_input, decode_predictions\n",
    "import numpy as np\n",
    "\n",
    "img_path = 'home/remo/Downloads/creative_commons_elephant.jpg'   # Local path to the target image\n",
    "\n",
    "img = image.load_img(img_path, target_size=(224,224)) # Python imaging library(PIL) image of size 224 x 224\n",
    "\n",
    "x = image.img_to_array(img)                    # float32 Numpy array of shape (224, 224, 3)\n",
    "\n",
    "x = np.expand_dims(x, axis=0)                 # adds a dimension to transform the array into a btach of size\n",
    "                                              # (1, 224, 224, 3)\n",
    "    \n",
    "x = preprocess_input(x)                      # prepeocesses the batch(this does channel-wise color normalization)"
   ]
  },
  {
   "cell_type": "code",
   "execution_count": null,
   "metadata": {},
   "outputs": [],
   "source": [
    "# U can now run da pretrained network on the image and decode its prediction vector back to a human-readable format."
   ]
  },
  {
   "cell_type": "code",
   "execution_count": null,
   "metadata": {},
   "outputs": [],
   "source": [
    "preds = model.predict(x)\n",
    "print('Predicted:', decode_predictions(preds, top=3)[0])\n"
   ]
  },
  {
   "cell_type": "code",
   "execution_count": null,
   "metadata": {},
   "outputs": [],
   "source": [
    "# The network has recognized the image as containing an undetermined qty of African elephants. The entry in the \n",
    "# prediction vector dat was maximally activated is the one corresponding to the African elephant class at index 386b\n",
    "np.argmax(preds[0])"
   ]
  },
  {
   "cell_type": "code",
   "execution_count": null,
   "metadata": {},
   "outputs": [],
   "source": [
    "#Listing 5.42 Setting up the Grad-CAM algorithm"
   ]
  },
  {
   "cell_type": "code",
   "execution_count": null,
   "metadata": {},
   "outputs": [],
   "source": [
    "african_e661ephant_output = model.output[:, 386]   # African elephant entry in the prediction vector\n",
    "\n",
    "last_conv_layer = model.get_layer('block5_conv3')   # Output feature map of the block5_conv3 layer,\n",
    "                                                    # the last convolutional layer in VGG16\n",
    "    \n",
    "grads = K.gradients(african_elephant_output, last_conv_layer.output)[0]  # Gradient of the African elephant\n",
    "                                                  # class w.r.t the output feature map of the block5_conv3\n",
    "    \n",
    "pooled_grads = K.mean(grads, axis=(0, 1, 2))      #Vector of shape (512), where each entry is the mean intensity\n",
    "                                                  # of the gradient over a specific feature-map channel\n",
    "iterate = K.function([model.input],          # Lets u access the values of qts u just defined: pooled grads \n",
    "                     [pooled_grads, last_conv_layer.output[0]]) #& output feature map of block5_conv3, sample img gvn\n",
    "\n",
    "pooled_grads_value, conv_layer_output = iterate([x])  # Values of these 2 qts as Numpy arrays gvn da sample img of 2 elephants\n",
    "\n",
    "heatmap = np.mean(conv_layer_output_value, axis =-1)  # The channel-wise mean of the resulting feature map is the \n",
    "                                                      # heatmap of class activation."
   ]
  },
  {
   "cell_type": "code",
   "execution_count": null,
   "metadata": {},
   "outputs": [],
   "source": [
    "# 5.43 Heatmap Processing"
   ]
  },
  {
   "cell_type": "code",
   "execution_count": null,
   "metadata": {},
   "outputs": [],
   "source": [
    "heatmap = np.maximum(heatmap, 0)\n",
    "heatmap /= np.max(heatmap)\n",
    "plt.matshow(heatmap)\n",
    "# African elephant class activation heatmap over the test picture"
   ]
  },
  {
   "cell_type": "code",
   "execution_count": null,
   "metadata": {},
   "outputs": [],
   "source": [
    "# use OPENCV to generate an image that superimposes the original image on the heatmap u just obtained."
   ]
  },
  {
   "cell_type": "code",
   "execution_count": null,
   "metadata": {},
   "outputs": [],
   "source": [
    "# Superimposing the heatmap with the original picture"
   ]
  },
  {
   "cell_type": "code",
   "execution_count": null,
   "metadata": {},
   "outputs": [],
   "source": [
    "import cv2\n",
    "\n",
    "img = cv2.imread(img_path)   # Uses cv2 to load the original image\n",
    "\n",
    "img = cv2.resize(heatmap, (img.shape[1], img.shape[0])) #Resizes the heatmap to be the same size as original image\n",
    "\n",
    "heatmap = np.uint8(255 * heatmap)  # Converts the heatmap to RGB\n",
    "\n",
    "heatmap = cv2.applyColorMap(heatmap, cv2.COLORMAP_JET)   # applies the heatmap to the original image\n",
    "\n",
    "superimposed_img = heatmap * 0.4 + img  # 0.4 here is a heatmap intensity factor\n",
    "\n",
    "cv2.imwrite('./directory/elephant_cam.jpg, superimposed_jpg')    # saves the image to disk\n"
   ]
  },
  {
   "cell_type": "code",
   "execution_count": 125,
   "metadata": {},
   "outputs": [],
   "source": [
    "# the visualization technique answers two imp questions.\n"
   ]
  },
  {
   "cell_type": "code",
   "execution_count": null,
   "metadata": {},
   "outputs": [],
   "source": [
    "# Why did the network think this image contained an African elephant?\n",
    "\n",
    "# Where is the African elephant located in the picture?\n",
    "\n",
    "# In particular, it's interesting 2 note that the ears of the elephant calf are strongly activated: this is probably \n",
    "# how the network can tell the difference btw African and Indian elephants."
   ]
  },
  {
   "cell_type": "markdown",
   "metadata": {},
   "source": [
    "# Chapter Summary"
   ]
  },
  {
   "cell_type": "markdown",
   "metadata": {},
   "source": [
    "### Convnets are the best tool for attacking visual-classification problems."
   ]
  },
  {
   "cell_type": "markdown",
   "metadata": {},
   "source": [
    "### Convnets work by learning a hierarchy of modular patterns and concepts to represent the visual world."
   ]
  },
  {
   "cell_type": "markdown",
   "metadata": {},
   "source": [
    "### The represenetations they learn are easy to inspect-convnets are the opposite of black-boxes!"
   ]
  },
  {
   "cell_type": "markdown",
   "metadata": {},
   "source": [
    "### Train own convnet 4rm scratch to solve an image-classification problem"
   ]
  },
  {
   "cell_type": "markdown",
   "metadata": {},
   "source": [
    "### Use visual data augmentation to fight overfitting"
   ]
  },
  {
   "cell_type": "markdown",
   "metadata": {},
   "source": [
    "### Use pretrained convnet to do feature extraction and fine-tuning"
   ]
  },
  {
   "cell_type": "markdown",
   "metadata": {},
   "source": [
    "### Generate visualiztions of the filters learned by the convnets as well as heat maps of class activity"
   ]
  },
  {
   "cell_type": "code",
   "execution_count": null,
   "metadata": {},
   "outputs": [],
   "source": []
  }
 ],
 "metadata": {
  "kernelspec": {
   "display_name": "Python 3",
   "language": "python",
   "name": "python3"
  },
  "language_info": {
   "codemirror_mode": {
    "name": "ipython",
    "version": 3
   },
   "file_extension": ".py",
   "mimetype": "text/x-python",
   "name": "python",
   "nbconvert_exporter": "python",
   "pygments_lexer": "ipython3",
   "version": "3.8.5"
  }
 },
 "nbformat": 4,
 "nbformat_minor": 4
}
